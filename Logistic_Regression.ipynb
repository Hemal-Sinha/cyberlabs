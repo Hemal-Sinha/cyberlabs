{
  "cells": [
    {
      "cell_type": "code",
      "execution_count": null,
      "metadata": {
        "id": "tKVZiUQYCTyt"
      },
      "outputs": [],
      "source": [
        "import pandas as pd\n",
        "import numpy as np\n",
        "import matplotlib.pyplot as plt"
      ]
    },
    {
      "cell_type": "code",
      "execution_count": null,
      "metadata": {
        "colab": {
          "base_uri": "https://localhost:8080/"
        },
        "id": "7OqClTe0Chqv",
        "outputId": "5ba1c4e9-364c-48bb-9776-c8349d5ea42c"
      },
      "outputs": [
        {
          "output_type": "stream",
          "name": "stdout",
          "text": [
            "Mounted at /content/drive\n"
          ]
        }
      ],
      "source": [
        "from google.colab import drive\n",
        "drive.mount('/content/drive')"
      ]
    },
    {
      "cell_type": "code",
      "execution_count": null,
      "metadata": {
        "colab": {
          "base_uri": "https://localhost:8080/"
        },
        "id": "8X8EmYedCkPU",
        "outputId": "237e865e-88c8-4e0b-b018-a3fdeb958d1f"
      },
      "outputs": [
        {
          "output_type": "stream",
          "name": "stdout",
          "text": [
            "mkdir: cannot create directory ‘/content/drive/MyDrive/logistic_data’: File exists\n"
          ]
        }
      ],
      "source": [
        "!mkdir /content/drive/MyDrive/logistic_data"
      ]
    },
    {
      "cell_type": "code",
      "execution_count": null,
      "metadata": {
        "colab": {
          "base_uri": "https://localhost:8080/"
        },
        "id": "7fogAoHsCxX0",
        "outputId": "4dc95086-cffc-4a59-e773-12e0c5868dd5"
      },
      "outputs": [
        {
          "output_type": "stream",
          "name": "stdout",
          "text": [
            "[Errno 2] No such file or directory: '/content/drive/MyDrive/logistic_data #%cd logistic_data/ #changing_directory'\n",
            "/content\n"
          ]
        }
      ],
      "source": [
        "%cd /content/drive/MyDrive/logistic_data #%cd logistic_data/ #changing_directory"
      ]
    },
    {
      "cell_type": "code",
      "execution_count": null,
      "metadata": {
        "colab": {
          "base_uri": "https://localhost:8080/"
        },
        "id": "qQfkmsp4DafK",
        "outputId": "93de3980-a9c4-457f-a1e7-68c4e47def8f"
      },
      "outputs": [
        {
          "output_type": "stream",
          "name": "stdout",
          "text": [
            "/content\n"
          ]
        }
      ],
      "source": [
        "!pwd"
      ]
    },
    {
      "cell_type": "code",
      "execution_count": null,
      "metadata": {
        "colab": {
          "base_uri": "https://localhost:8080/"
        },
        "id": "xBmLGFmHDdFp",
        "outputId": "15dea9c1-f9fd-40a3-e2a9-b1c8373d301b"
      },
      "outputs": [
        {
          "output_type": "stream",
          "name": "stdout",
          "text": [
            "drive  sample_data\n"
          ]
        }
      ],
      "source": [
        "!ls"
      ]
    },
    {
      "cell_type": "code",
      "execution_count": null,
      "metadata": {
        "id": "9qdPyomPDt_B",
        "colab": {
          "base_uri": "https://localhost:8080/"
        },
        "outputId": "8bff4205-3367-4ec5-db02-4c350de71deb"
      },
      "outputs": [
        {
          "output_type": "stream",
          "name": "stdout",
          "text": [
            "      23  0  0.1  0.2  0.3  0.4  0.5  0.6  0.7  0.8  ...  0.406  0.407  0.408  \\\n",
            "0      7  0    0    0    0    0    0    0    0    0  ...    0.0    0.0    0.0   \n",
            "1     16  0    0    0    0    0    0    0    0    0  ...    0.0    0.0    0.0   \n",
            "2     15  0    0    0    0    0    0    0    0    0  ...    0.0    0.0    0.0   \n",
            "3     23  0    0    0    0    0    0    0    0    0  ...    0.0    0.0    0.0   \n",
            "4     17  0    0    0    0    0    0    0    0    0  ...    0.0    0.0    0.0   \n",
            "...   .. ..  ...  ...  ...  ...  ...  ...  ...  ...  ...    ...    ...    ...   \n",
            "3995  17  0    0    0    0    0    0    0    0    0  ...    0.0    0.0    0.0   \n",
            "3996  11  0    0    0    0    0    0    0    0    0  ...    0.0    0.0    0.0   \n",
            "3997  23  0    0    0    0    0    0    0    0    0  ...    0.0    0.0    0.0   \n",
            "3998  10  0    0    0    0    0    0    0    0    0  ...    0.0    0.0    0.0   \n",
            "3999  12  0    0    0    0    0    0    0    0    0  ...    0.0    0.0    0.0   \n",
            "\n",
            "      0.409  0.410  0.411  0.412  0.413  0.414  0.415  \n",
            "0       0.0    0.0    0.0    0.0    0.0    0.0    0.0  \n",
            "1       0.0    0.0    0.0    0.0    0.0    0.0    0.0  \n",
            "2       0.0    0.0    0.0    0.0    0.0    0.0    0.0  \n",
            "3       0.0    0.0    0.0    0.0    0.0    0.0    0.0  \n",
            "4       0.0    0.0    0.0    0.0    0.0    0.0    0.0  \n",
            "...     ...    ...    ...    ...    ...    ...    ...  \n",
            "3995    0.0    0.0    0.0    0.0    0.0    0.0    0.0  \n",
            "3996    0.0    0.0    0.0    0.0    0.0    0.0    0.0  \n",
            "3997    0.0    0.0    0.0    0.0    0.0    0.0    0.0  \n",
            "3998    0.0    0.0    0.0    0.0    0.0    0.0    0.0  \n",
            "3999    0.0    0.0    0.0    0.0    0.0    0.0    0.0  \n",
            "\n",
            "[4000 rows x 785 columns]\n"
          ]
        }
      ],
      "source": [
        "train_path = '/content/drive/MyDrive/logistic_data/emnist-letters-train.csv'\n",
        "test_path ='/content/drive/MyDrive/logistic_data/emnist-letters-test.csv' \n",
        "train = pd.read_csv(train_path)\n",
        "train = train.iloc[0:4000, :]\n",
        "print(train)\n"
      ]
    },
    {
      "cell_type": "code",
      "execution_count": null,
      "metadata": {
        "id": "KmS2bQaZGiWY",
        "colab": {
          "base_uri": "https://localhost:8080/"
        },
        "outputId": "b4ce8961-7572-4810-cfa5-32729574b357"
      },
      "outputs": [
        {
          "output_type": "stream",
          "name": "stdout",
          "text": [
            "(4000, 785)\n"
          ]
        }
      ],
      "source": [
        "train_X = train.iloc[:,1:]\n",
        "u = np.ones([np.shape(train_X)[0], 1])\n",
        "train_X = np.concatenate((u, train_X), axis = 1)\n",
        "print(np.shape(train_X))"
      ]
    },
    {
      "cell_type": "code",
      "execution_count": null,
      "metadata": {
        "colab": {
          "base_uri": "https://localhost:8080/"
        },
        "id": "0BIZ_83i9I1m",
        "outputId": "4d7597e9-ece3-46be-8f65-e425a5183529"
      },
      "outputs": [
        {
          "output_type": "stream",
          "name": "stdout",
          "text": [
            "[[0. 0. 0. ... 0. 0. 0.]\n",
            " [0. 0. 0. ... 0. 0. 0.]\n",
            " [0. 0. 0. ... 0. 0. 0.]\n",
            " ...\n",
            " [0. 0. 0. ... 0. 0. 0.]\n",
            " [0. 0. 0. ... 0. 0. 0.]\n",
            " [0. 0. 0. ... 0. 0. 0.]]\n"
          ]
        }
      ],
      "source": [
        "train_Y = train.iloc[:,0]\n",
        "ynew = np.zeros([np.size(train_Y),len(set(train_Y))])\n",
        "for i in range(0,np.size(train_Y)):\n",
        "   for j in range(1, len(set(train_Y))+1):\n",
        "     if train_Y[i] == j:\n",
        "       ynew[i, j-1] = 1\n",
        "print(ynew)"
      ]
    },
    {
      "cell_type": "code",
      "execution_count": null,
      "metadata": {
        "id": "iVtgrkL8FFal"
      },
      "outputs": [],
      "source": [
        "def sigmoid(x):\n",
        "  return 1/(1 + np.exp(-x))"
      ]
    },
    {
      "cell_type": "code",
      "execution_count": null,
      "metadata": {
        "id": "kGAFL_8B2lLn"
      },
      "outputs": [],
      "source": [
        "def grad(X, Y, learningrate, itrn):\n",
        "  m = np.shape(X)[0] # training set length\n",
        "\n",
        "  theta = np.zeros( (X.shape[1] , 26) ) # initializing theta\n",
        "  \n",
        "  cost_all = [] # to store cost Function\n",
        "\n",
        "  for z in range(itrn): \n",
        "\n",
        "      x = np.dot(X, theta) # hypothesis\n",
        "\n",
        "      yprobability = sigmoid(x)\n",
        "\n",
        "      cost = (1/m)*np.sum((-Y*np.log(yprobability)) - ((1-Y)*np.log(1-yprobability))) # Cost Function\n",
        "\n",
        "      dif = (1/m)* np.dot(X.T, yprobability - Y) # differentiating Cost Function w.r.t Theta\n",
        "\n",
        "      theta = theta - learningrate*dif # updating theta\n",
        "\n",
        "      cost_all.append(cost) # updating cost Function list\n",
        "\n",
        "\n",
        "      # to see if cost is decreasing\n",
        "\n",
        "      if z % 100 == 0:\n",
        "        print(\"Cost is\", cost)\n",
        "\n",
        "  return yprobability , cost_all"
      ]
    },
    {
      "cell_type": "code",
      "execution_count": null,
      "metadata": {
        "id": "lyLjcBapa0Y3"
      },
      "outputs": [],
      "source": [
        "itrn = 2000\n",
        "learningrate = 0.00001"
      ]
    },
    {
      "cell_type": "code",
      "execution_count": null,
      "metadata": {
        "id": "4YA5G86o6IrM",
        "colab": {
          "base_uri": "https://localhost:8080/"
        },
        "outputId": "91b415f8-71b6-42c9-94b5-148b1b0a2467"
      },
      "outputs": [
        {
          "output_type": "stream",
          "name": "stdout",
          "text": [
            "Cost is 18.02182669455858\n",
            "Cost is 2.159900962099091\n",
            "Cost is 1.996034770872388\n",
            "Cost is 1.9083628451575714\n",
            "Cost is 1.8476980452486997\n",
            "Cost is 1.8008588299544186\n",
            "Cost is 1.7624439108494\n",
            "Cost is 1.7297181956732048\n",
            "Cost is 1.7011052628502779\n",
            "Cost is 1.6756127448489517\n",
            "Cost is 1.6525745719822729\n",
            "Cost is 1.6315213849477401\n",
            "Cost is 1.6121096002455793\n",
            "Cost is 1.5940798985692948\n",
            "Cost is 1.5772315800498307\n",
            "Cost is 1.5614060039010127\n",
            "Cost is 1.5464754979667883\n",
            "Cost is 1.5323357034146095\n",
            "Cost is 1.5189001534266882\n",
            "Cost is 1.5060963477180087\n"
          ]
        }
      ],
      "source": [
        "yprobability , cost_all = grad(Y= ynew, X=train_X , learningrate=learningrate, itrn = itrn)"
      ]
    },
    {
      "cell_type": "code",
      "source": [
        "plt.plot(np.arange(itrn), cost_all)"
      ],
      "metadata": {
        "colab": {
          "base_uri": "https://localhost:8080/",
          "height": 283
        },
        "id": "aV_x5ukeTkaT",
        "outputId": "4e90c22d-0a54-47c1-daa7-4155f022ebed"
      },
      "execution_count": null,
      "outputs": [
        {
          "output_type": "execute_result",
          "data": {
            "text/plain": [
              "[<matplotlib.lines.Line2D at 0x7f6518abf5d0>]"
            ]
          },
          "metadata": {},
          "execution_count": 14
        },
        {
          "output_type": "display_data",
          "data": {
            "text/plain": [
              "<Figure size 432x288 with 1 Axes>"
            ],
            "image/png": "[encoded data removed]"
          },
          "metadata": {
            "needs_background": "light"
          }
        }
      ]
    },
    {
      "cell_type": "code",
      "execution_count": null,
      "metadata": {
        "id": "PHS5SOBNKDeF",
        "colab": {
          "base_uri": "https://localhost:8080/"
        },
        "outputId": "bbbddb83-1111-4d54-d988-d9169e761fec"
      },
      "outputs": [
        {
          "output_type": "stream",
          "name": "stdout",
          "text": [
            "[[6.69174837e-03 3.35528285e-06 6.10324729e-06 ... 5.14471893e-08\n",
            "  9.42516382e-10 7.32014594e-10]\n",
            " [1.22927271e-04 7.87156692e-02 7.41789715e-05 ... 5.00220269e-06\n",
            "  7.36175306e-05 8.03428026e-02]\n",
            " [3.05662277e-03 1.80162216e-05 3.61061659e-02 ... 2.78047934e-07\n",
            "  3.26693217e-11 3.17841568e-03]\n",
            " ...\n",
            " [1.40960017e-05 2.23168015e-03 1.76486847e-04 ... 1.71119256e-03\n",
            "  2.45570754e-09 8.69973568e-04]\n",
            " [7.22059854e-05 4.51380495e-06 2.89943677e-03 ... 6.20438704e-05\n",
            "  1.29370002e-04 3.11271468e-03]\n",
            " [2.76852736e-04 2.18695530e-02 1.82112790e-03 ... 9.06200006e-05\n",
            "  3.46859717e-05 1.17847518e-01]]\n"
          ]
        }
      ],
      "source": [
        "print((yprobability))"
      ]
    },
    {
      "cell_type": "code",
      "source": [
        "for i in range(np.shape(yprobability)[0]):\n",
        "  for j in range(np.shape(yprobability)[1]):\n",
        "    if yprobability[i][j] < 0.5:\n",
        "      yprobability[i][j] = False\n",
        "    else:\n",
        "      yprobability[i][j] = True\n",
        "yprobability"
      ],
      "metadata": {
        "id": "yuMuMNlUBL7u",
        "colab": {
          "base_uri": "https://localhost:8080/"
        },
        "outputId": "79b3e168-3cfc-4cdf-c956-b4b213e72724"
      },
      "execution_count": null,
      "outputs": [
        {
          "output_type": "execute_result",
          "data": {
            "text/plain": [
              "array([[0., 0., 0., ..., 0., 0., 0.],\n",
              "       [0., 0., 0., ..., 0., 0., 0.],\n",
              "       [0., 0., 0., ..., 0., 0., 0.],\n",
              "       ...,\n",
              "       [0., 0., 0., ..., 0., 0., 0.],\n",
              "       [0., 0., 0., ..., 0., 0., 0.],\n",
              "       [0., 0., 0., ..., 0., 0., 0.]])"
            ]
          },
          "metadata": {},
          "execution_count": 16
        }
      ]
    },
    {
      "cell_type": "code",
      "source": [
        "test = pd.read_csv(test_path)\n",
        "test = test.iloc[1:4000, :]\n",
        "test"
      ],
      "metadata": {
        "id": "ZzV1HqTp-dP_",
        "colab": {
          "base_uri": "https://localhost:8080/",
          "height": 423
        },
        "outputId": "bbb7e2bb-fc97-43fb-de01-4185cce8b503"
      },
      "execution_count": null,
      "outputs": [
        {
          "output_type": "execute_result",
          "data": {
            "text/plain": [
              "      1  0  0.1  0.2  0.3  0.4  0.5  0.6  0.7  0.8  ...  0.548  0.549  0.550  \\\n",
              "1     1  0    0    0    0    0    0    0    0    0  ...      0      0      0   \n",
              "2     1  0    0    0    0    0    0    0    0    0  ...      0      0      0   \n",
              "3     1  0    0    0    0    0    0    0    0    0  ...      0      0      0   \n",
              "4     1  0    0    0    0    0    0    0    0    0  ...      0      0      0   \n",
              "5     1  0    0    0    0    0    0    0    0    0  ...      0      0      0   \n",
              "...  .. ..  ...  ...  ...  ...  ...  ...  ...  ...  ...    ...    ...    ...   \n",
              "3995  5  0    0    0    0    0    0    0    0    0  ...      0      0      0   \n",
              "3996  5  0    0    0    0    0    0    0    0    0  ...      0      0      0   \n",
              "3997  5  0    0    0    0    0    0    0    0    0  ...      0      0      0   \n",
              "3998  5  0    0    0    0    0    0    0    0    0  ...      0      0      0   \n",
              "3999  6  0    0    0    0    0    0    0    0    0  ...      0      0      0   \n",
              "\n",
              "      0.551  0.552  0.553  0.554  0.555  0.556  0.557  \n",
              "1         0      0      0      0      0      0      0  \n",
              "2         0      0      0      0      0      0      0  \n",
              "3         0      0      0      0      0      0      0  \n",
              "4         0      0      0      0      0      0      0  \n",
              "5         0      0      0      0      0      0      0  \n",
              "...     ...    ...    ...    ...    ...    ...    ...  \n",
              "3995      0      0      0      0      0      0      0  \n",
              "3996      0      0      0      0      0      0      0  \n",
              "3997      0      0      0      0      0      0      0  \n",
              "3998      0      0      0      0      0      0      0  \n",
              "3999      0      0      0      0      0      0      0  \n",
              "\n",
              "[3999 rows x 785 columns]"
            ],
            "text/html": [
              "\n",
              "  <div id=\"df-ce8744d9-eb2e-404a-a83e-1f13d182b133\">\n",
              "    <div class=\"colab-df-container\">\n",
              "      <div>\n",
              "<style scoped>\n",
              "    .dataframe tbody tr th:only-of-type {\n",
              "        vertical-align: middle;\n",
              "    }\n",
              "\n",
              "    .dataframe tbody tr th {\n",
              "        vertical-align: top;\n",
              "    }\n",
              "\n",
              "    .dataframe thead th {\n",
              "        text-align: right;\n",
              "    }\n",
              "</style>\n",
              "<table border=\"1\" class=\"dataframe\">\n",
              "  <thead>\n",
              "    <tr style=\"text-align: right;\">\n",
              "      <th></th>\n",
              "      <th>1</th>\n",
              "      <th>0</th>\n",
              "      <th>0.1</th>\n",
              "      <th>0.2</th>\n",
              "      <th>0.3</th>\n",
              "      <th>0.4</th>\n",
              "      <th>0.5</th>\n",
              "      <th>0.6</th>\n",
              "      <th>0.7</th>\n",
              "      <th>0.8</th>\n",
              "      <th>...</th>\n",
              "      <th>0.548</th>\n",
              "      <th>0.549</th>\n",
              "      <th>0.550</th>\n",
              "      <th>0.551</th>\n",
              "      <th>0.552</th>\n",
              "      <th>0.553</th>\n",
              "      <th>0.554</th>\n",
              "      <th>0.555</th>\n",
              "      <th>0.556</th>\n",
              "      <th>0.557</th>\n",
              "    </tr>\n",
              "  </thead>\n",
              "  <tbody>\n",
              "    <tr>\n",
              "      <th>1</th>\n",
              "      <td>1</td>\n",
              "      <td>0</td>\n",
              "      <td>0</td>\n",
              "      <td>0</td>\n",
              "      <td>0</td>\n",
              "      <td>0</td>\n",
              "      <td>0</td>\n",
              "      <td>0</td>\n",
              "      <td>0</td>\n",
              "      <td>0</td>\n",
              "      <td>...</td>\n",
              "      <td>0</td>\n",
              "      <td>0</td>\n",
              "      <td>0</td>\n",
              "      <td>0</td>\n",
              "      <td>0</td>\n",
              "      <td>0</td>\n",
              "      <td>0</td>\n",
              "      <td>0</td>\n",
              "      <td>0</td>\n",
              "      <td>0</td>\n",
              "    </tr>\n",
              "    <tr>\n",
              "      <th>2</th>\n",
              "      <td>1</td>\n",
              "      <td>0</td>\n",
              "      <td>0</td>\n",
              "      <td>0</td>\n",
              "      <td>0</td>\n",
              "      <td>0</td>\n",
              "      <td>0</td>\n",
              "      <td>0</td>\n",
              "      <td>0</td>\n",
              "      <td>0</td>\n",
              "      <td>...</td>\n",
              "      <td>0</td>\n",
              "      <td>0</td>\n",
              "      <td>0</td>\n",
              "      <td>0</td>\n",
              "      <td>0</td>\n",
              "      <td>0</td>\n",
              "      <td>0</td>\n",
              "      <td>0</td>\n",
              "      <td>0</td>\n",
              "      <td>0</td>\n",
              "    </tr>\n",
              "    <tr>\n",
              "      <th>3</th>\n",
              "      <td>1</td>\n",
              "      <td>0</td>\n",
              "      <td>0</td>\n",
              "      <td>0</td>\n",
              "      <td>0</td>\n",
              "      <td>0</td>\n",
              "      <td>0</td>\n",
              "      <td>0</td>\n",
              "      <td>0</td>\n",
              "      <td>0</td>\n",
              "      <td>...</td>\n",
              "      <td>0</td>\n",
              "      <td>0</td>\n",
              "      <td>0</td>\n",
              "      <td>0</td>\n",
              "      <td>0</td>\n",
              "      <td>0</td>\n",
              "      <td>0</td>\n",
              "      <td>0</td>\n",
              "      <td>0</td>\n",
              "      <td>0</td>\n",
              "    </tr>\n",
              "    <tr>\n",
              "      <th>4</th>\n",
              "      <td>1</td>\n",
              "      <td>0</td>\n",
              "      <td>0</td>\n",
              "      <td>0</td>\n",
              "      <td>0</td>\n",
              "      <td>0</td>\n",
              "      <td>0</td>\n",
              "      <td>0</td>\n",
              "      <td>0</td>\n",
              "      <td>0</td>\n",
              "      <td>...</td>\n",
              "      <td>0</td>\n",
              "      <td>0</td>\n",
              "      <td>0</td>\n",
              "      <td>0</td>\n",
              "      <td>0</td>\n",
              "      <td>0</td>\n",
              "      <td>0</td>\n",
              "      <td>0</td>\n",
              "      <td>0</td>\n",
              "      <td>0</td>\n",
              "    </tr>\n",
              "    <tr>\n",
              "      <th>5</th>\n",
              "      <td>1</td>\n",
              "      <td>0</td>\n",
              "      <td>0</td>\n",
              "      <td>0</td>\n",
              "      <td>0</td>\n",
              "      <td>0</td>\n",
              "      <td>0</td>\n",
              "      <td>0</td>\n",
              "      <td>0</td>\n",
              "      <td>0</td>\n",
              "      <td>...</td>\n",
              "      <td>0</td>\n",
              "      <td>0</td>\n",
              "      <td>0</td>\n",
              "      <td>0</td>\n",
              "      <td>0</td>\n",
              "      <td>0</td>\n",
              "      <td>0</td>\n",
              "      <td>0</td>\n",
              "      <td>0</td>\n",
              "      <td>0</td>\n",
              "    </tr>\n",
              "    <tr>\n",
              "      <th>...</th>\n",
              "      <td>...</td>\n",
              "      <td>...</td>\n",
              "      <td>...</td>\n",
              "      <td>...</td>\n",
              "      <td>...</td>\n",
              "      <td>...</td>\n",
              "      <td>...</td>\n",
              "      <td>...</td>\n",
              "      <td>...</td>\n",
              "      <td>...</td>\n",
              "      <td>...</td>\n",
              "      <td>...</td>\n",
              "      <td>...</td>\n",
              "      <td>...</td>\n",
              "      <td>...</td>\n",
              "      <td>...</td>\n",
              "      <td>...</td>\n",
              "      <td>...</td>\n",
              "      <td>...</td>\n",
              "      <td>...</td>\n",
              "      <td>...</td>\n",
              "    </tr>\n",
              "    <tr>\n",
              "      <th>3995</th>\n",
              "      <td>5</td>\n",
              "      <td>0</td>\n",
              "      <td>0</td>\n",
              "      <td>0</td>\n",
              "      <td>0</td>\n",
              "      <td>0</td>\n",
              "      <td>0</td>\n",
              "      <td>0</td>\n",
              "      <td>0</td>\n",
              "      <td>0</td>\n",
              "      <td>...</td>\n",
              "      <td>0</td>\n",
              "      <td>0</td>\n",
              "      <td>0</td>\n",
              "      <td>0</td>\n",
              "      <td>0</td>\n",
              "      <td>0</td>\n",
              "      <td>0</td>\n",
              "      <td>0</td>\n",
              "      <td>0</td>\n",
              "      <td>0</td>\n",
              "    </tr>\n",
              "    <tr>\n",
              "      <th>3996</th>\n",
              "      <td>5</td>\n",
              "      <td>0</td>\n",
              "      <td>0</td>\n",
              "      <td>0</td>\n",
              "      <td>0</td>\n",
              "      <td>0</td>\n",
              "      <td>0</td>\n",
              "      <td>0</td>\n",
              "      <td>0</td>\n",
              "      <td>0</td>\n",
              "      <td>...</td>\n",
              "      <td>0</td>\n",
              "      <td>0</td>\n",
              "      <td>0</td>\n",
              "      <td>0</td>\n",
              "      <td>0</td>\n",
              "      <td>0</td>\n",
              "      <td>0</td>\n",
              "      <td>0</td>\n",
              "      <td>0</td>\n",
              "      <td>0</td>\n",
              "    </tr>\n",
              "    <tr>\n",
              "      <th>3997</th>\n",
              "      <td>5</td>\n",
              "      <td>0</td>\n",
              "      <td>0</td>\n",
              "      <td>0</td>\n",
              "      <td>0</td>\n",
              "      <td>0</td>\n",
              "      <td>0</td>\n",
              "      <td>0</td>\n",
              "      <td>0</td>\n",
              "      <td>0</td>\n",
              "      <td>...</td>\n",
              "      <td>0</td>\n",
              "      <td>0</td>\n",
              "      <td>0</td>\n",
              "      <td>0</td>\n",
              "      <td>0</td>\n",
              "      <td>0</td>\n",
              "      <td>0</td>\n",
              "      <td>0</td>\n",
              "      <td>0</td>\n",
              "      <td>0</td>\n",
              "    </tr>\n",
              "    <tr>\n",
              "      <th>3998</th>\n",
              "      <td>5</td>\n",
              "      <td>0</td>\n",
              "      <td>0</td>\n",
              "      <td>0</td>\n",
              "      <td>0</td>\n",
              "      <td>0</td>\n",
              "      <td>0</td>\n",
              "      <td>0</td>\n",
              "      <td>0</td>\n",
              "      <td>0</td>\n",
              "      <td>...</td>\n",
              "      <td>0</td>\n",
              "      <td>0</td>\n",
              "      <td>0</td>\n",
              "      <td>0</td>\n",
              "      <td>0</td>\n",
              "      <td>0</td>\n",
              "      <td>0</td>\n",
              "      <td>0</td>\n",
              "      <td>0</td>\n",
              "      <td>0</td>\n",
              "    </tr>\n",
              "    <tr>\n",
              "      <th>3999</th>\n",
              "      <td>6</td>\n",
              "      <td>0</td>\n",
              "      <td>0</td>\n",
              "      <td>0</td>\n",
              "      <td>0</td>\n",
              "      <td>0</td>\n",
              "      <td>0</td>\n",
              "      <td>0</td>\n",
              "      <td>0</td>\n",
              "      <td>0</td>\n",
              "      <td>...</td>\n",
              "      <td>0</td>\n",
              "      <td>0</td>\n",
              "      <td>0</td>\n",
              "      <td>0</td>\n",
              "      <td>0</td>\n",
              "      <td>0</td>\n",
              "      <td>0</td>\n",
              "      <td>0</td>\n",
              "      <td>0</td>\n",
              "      <td>0</td>\n",
              "    </tr>\n",
              "  </tbody>\n",
              "</table>\n",
              "<p>3999 rows × 785 columns</p>\n",
              "</div>\n",
              "      <button class=\"colab-df-convert\" onclick=\"convertToInteractive('df-ce8744d9-eb2e-404a-a83e-1f13d182b133')\"\n",
              "              title=\"Convert this dataframe to an interactive table.\"\n",
              "              style=\"display:none;\">\n",
              "        \n",
              "  <svg xmlns=\"http://www.w3.org/2000/svg\" height=\"24px\"viewBox=\"0 0 24 24\"\n",
              "       width=\"24px\">\n",
              "    <path d=\"M0 0h24v24H0V0z\" fill=\"none\"/>\n",
              "    <path d=\"M18.56 5.44l.94 2.06.94-2.06 2.06-.94-2.06-.94-.94-2.06-.94 2.06-2.06.94zm-11 1L8.5 8.5l.94-2.06 2.06-.94-2.06-.94L8.5 2.5l-.94 2.06-2.06.94zm10 10l.94 2.06.94-2.06 2.06-.94-2.06-.94-.94-2.06-.94 2.06-2.06.94z\"/><path d=\"M17.41 7.96l-1.37-1.37c-.4-.4-.92-.59-1.43-.59-.52 0-1.04.2-1.43.59L10.3 9.45l-7.72 7.72c-.78.78-.78 2.05 0 2.83L4 21.41c.39.39.9.59 1.41.59.51 0 1.02-.2 1.41-.59l7.78-7.78 2.81-2.81c.8-.78.8-2.07 0-2.86zM5.41 20L4 18.59l7.72-7.72 1.47 1.35L5.41 20z\"/>\n",
              "  </svg>\n",
              "      </button>\n",
              "      \n",
              "  <style>\n",
              "    .colab-df-container {\n",
              "      display:flex;\n",
              "      flex-wrap:wrap;\n",
              "      gap: 12px;\n",
              "    }\n",
              "\n",
              "    .colab-df-convert {\n",
              "      background-color: #E8F0FE;\n",
              "      border: none;\n",
              "      border-radius: 50%;\n",
              "      cursor: pointer;\n",
              "      display: none;\n",
              "      fill: #1967D2;\n",
              "      height: 32px;\n",
              "      padding: 0 0 0 0;\n",
              "      width: 32px;\n",
              "    }\n",
              "\n",
              "    .colab-df-convert:hover {\n",
              "      background-color: #E2EBFA;\n",
              "      box-shadow: 0px 1px 2px rgba(60, 64, 67, 0.3), 0px 1px 3px 1px rgba(60, 64, 67, 0.15);\n",
              "      fill: #174EA6;\n",
              "    }\n",
              "\n",
              "    [theme=dark] .colab-df-convert {\n",
              "      background-color: #3B4455;\n",
              "      fill: #D2E3FC;\n",
              "    }\n",
              "\n",
              "    [theme=dark] .colab-df-convert:hover {\n",
              "      background-color: #434B5C;\n",
              "      box-shadow: 0px 1px 3px 1px rgba(0, 0, 0, 0.15);\n",
              "      filter: drop-shadow(0px 1px 2px rgba(0, 0, 0, 0.3));\n",
              "      fill: #FFFFFF;\n",
              "    }\n",
              "  </style>\n",
              "\n",
              "      <script>\n",
              "        const buttonEl =\n",
              "          document.querySelector('#df-ce8744d9-eb2e-404a-a83e-1f13d182b133 button.colab-df-convert');\n",
              "        buttonEl.style.display =\n",
              "          google.colab.kernel.accessAllowed ? 'block' : 'none';\n",
              "\n",
              "        async function convertToInteractive(key) {\n",
              "          const element = document.querySelector('#df-ce8744d9-eb2e-404a-a83e-1f13d182b133');\n",
              "          const dataTable =\n",
              "            await google.colab.kernel.invokeFunction('convertToInteractive',\n",
              "                                                     [key], {});\n",
              "          if (!dataTable) return;\n",
              "\n",
              "          const docLinkHtml = 'Like what you see? Visit the ' +\n",
              "            '<a target=\"_blank\" href=https://colab.research.google.com/notebooks/data_table.ipynb>data table notebook</a>'\n",
              "            + ' to learn more about interactive tables.';\n",
              "          element.innerHTML = '';\n",
              "          dataTable['output_type'] = 'display_data';\n",
              "          await google.colab.output.renderOutput(dataTable, element);\n",
              "          const docLink = document.createElement('div');\n",
              "          docLink.innerHTML = docLinkHtml;\n",
              "          element.appendChild(docLink);\n",
              "        }\n",
              "      </script>\n",
              "    </div>\n",
              "  </div>\n",
              "  "
            ]
          },
          "metadata": {},
          "execution_count": 17
        }
      ]
    },
    {
      "cell_type": "code",
      "source": [
        ""
      ],
      "metadata": {
        "id": "GkLFShDQEeKO"
      },
      "execution_count": null,
      "outputs": []
    }
  ],
  "metadata": {
    "colab": {
      "collapsed_sections": [],
      "name": "Logistic Regression.ipynb",
      "provenance": []
    },
    "kernelspec": {
      "display_name": "Python 3",
      "name": "python3"
    },
    "language_info": {
      "name": "python"
    }
  },
  "nbformat": 4,
  "nbformat_minor": 0
}