{
  "cells": [
    {
      "cell_type": "code",
      "execution_count": 99,
      "metadata": {
        "id": "tKVZiUQYCTyt"
      },
      "outputs": [],
      "source": [
        "import pandas as pd\n",
        "import numpy as np\n",
        "import matplotlib.pyplot as plt"
      ]
    },
    {
      "cell_type": "code",
      "execution_count": 100,
      "metadata": {
        "id": "7OqClTe0Chqv",
        "colab": {
          "base_uri": "https://localhost:8080/"
        },
        "outputId": "d660347d-ac29-45fa-ba6b-942e4d51115b"
      },
      "outputs": [
        {
          "output_type": "stream",
          "name": "stdout",
          "text": [
            "Drive already mounted at /content/drive; to attempt to forcibly remount, call drive.mount(\"/content/drive\", force_remount=True).\n"
          ]
        }
      ],
      "source": [
        "from google.colab import drive\n",
        "drive.mount('/content/drive')"
      ]
    },
    {
      "cell_type": "code",
      "execution_count": 101,
      "metadata": {
        "id": "8X8EmYedCkPU",
        "colab": {
          "base_uri": "https://localhost:8080/"
        },
        "outputId": "2cdc2bb4-37d7-4d3e-9bcd-c260165ad873"
      },
      "outputs": [
        {
          "output_type": "stream",
          "name": "stdout",
          "text": [
            "mkdir: cannot create directory ‘/content/drive/MyDrive/logistic_data’: File exists\n"
          ]
        }
      ],
      "source": [
        "!mkdir /content/drive/MyDrive/logistic_data"
      ]
    },
    {
      "cell_type": "code",
      "execution_count": 102,
      "metadata": {
        "id": "7fogAoHsCxX0",
        "colab": {
          "base_uri": "https://localhost:8080/"
        },
        "outputId": "d89e9654-17af-42f8-eb54-fc25ba729f17"
      },
      "outputs": [
        {
          "output_type": "stream",
          "name": "stdout",
          "text": [
            "[Errno 2] No such file or directory: '/content/drive/MyDrive/logistic_data #%cd logistic_data/ #changing_directory'\n",
            "/content\n"
          ]
        }
      ],
      "source": [
        "%cd /content/drive/MyDrive/logistic_data #%cd logistic_data/ #changing_directory"
      ]
    },
    {
      "cell_type": "code",
      "execution_count": 103,
      "metadata": {
        "id": "qQfkmsp4DafK",
        "colab": {
          "base_uri": "https://localhost:8080/"
        },
        "outputId": "90175544-78e1-47e3-a49e-003a28295645"
      },
      "outputs": [
        {
          "output_type": "stream",
          "name": "stdout",
          "text": [
            "/content\n"
          ]
        }
      ],
      "source": [
        "!pwd"
      ]
    },
    {
      "cell_type": "code",
      "execution_count": 104,
      "metadata": {
        "id": "xBmLGFmHDdFp",
        "colab": {
          "base_uri": "https://localhost:8080/"
        },
        "outputId": "8e29fd8d-4067-49ff-9fa1-6c150c8b508c"
      },
      "outputs": [
        {
          "output_type": "stream",
          "name": "stdout",
          "text": [
            "drive  sample_data\n"
          ]
        }
      ],
      "source": [
        "!ls"
      ]
    },
    {
      "cell_type": "code",
      "execution_count": 105,
      "metadata": {
        "id": "9qdPyomPDt_B",
        "colab": {
          "base_uri": "https://localhost:8080/"
        },
        "outputId": "e75bfc1c-0a0a-4417-b412-f3e16e4ddf03"
      },
      "outputs": [
        {
          "output_type": "stream",
          "name": "stdout",
          "text": [
            "      23  0  0.1  0.2  0.3  0.4  0.5  0.6  0.7  0.8  ...  0.406  0.407  0.408  \\\n",
            "0      7  0    0    0    0    0    0    0    0    0  ...    0.0    0.0    0.0   \n",
            "1     16  0    0    0    0    0    0    0    0    0  ...    0.0    0.0    0.0   \n",
            "2     15  0    0    0    0    0    0    0    0    0  ...    0.0    0.0    0.0   \n",
            "3     23  0    0    0    0    0    0    0    0    0  ...    0.0    0.0    0.0   \n",
            "4     17  0    0    0    0    0    0    0    0    0  ...    0.0    0.0    0.0   \n",
            "...   .. ..  ...  ...  ...  ...  ...  ...  ...  ...  ...    ...    ...    ...   \n",
            "2495  21  0    0    0    0    0    0    0    0    0  ...    0.0    0.0    0.0   \n",
            "2496   4  0    0    0    0    0    0    0    0    0  ...    0.0    0.0    0.0   \n",
            "2497   5  0    0    0    0    0    0    0    0    0  ...    0.0    0.0    0.0   \n",
            "2498   7  0    0    0    0    0    0    0    0    0  ...    0.0    0.0    0.0   \n",
            "2499   8  0    0    0    0    0    0    0    0    0  ...    0.0    0.0    0.0   \n",
            "\n",
            "      0.409  0.410  0.411  0.412  0.413  0.414  0.415  \n",
            "0       0.0    0.0    0.0    0.0    0.0    0.0    0.0  \n",
            "1       0.0    0.0    0.0    0.0    0.0    0.0    0.0  \n",
            "2       0.0    0.0    0.0    0.0    0.0    0.0    0.0  \n",
            "3       0.0    0.0    0.0    0.0    0.0    0.0    0.0  \n",
            "4       0.0    0.0    0.0    0.0    0.0    0.0    0.0  \n",
            "...     ...    ...    ...    ...    ...    ...    ...  \n",
            "2495    0.0    0.0    0.0    0.0    0.0    0.0    0.0  \n",
            "2496    0.0    0.0    0.0    0.0    0.0    0.0    0.0  \n",
            "2497    0.0    0.0    0.0    0.0    0.0    0.0    0.0  \n",
            "2498    0.0    0.0    0.0    0.0    0.0    0.0    0.0  \n",
            "2499    0.0    0.0    0.0    0.0    0.0    0.0    0.0  \n",
            "\n",
            "[2500 rows x 785 columns]\n"
          ]
        }
      ],
      "source": [
        "train_path = '/content/drive/MyDrive/logistic_data/emnist-letters-train.csv'\n",
        "test_path ='/content/drive/MyDrive/logistic_data/emnist-letters-test.csv' \n",
        "train = pd.read_csv(train_path)\n",
        "train = train.iloc[0:2500, :]\n",
        "print(train)\n"
      ]
    },
    {
      "cell_type": "code",
      "execution_count": 106,
      "metadata": {
        "id": "KmS2bQaZGiWY",
        "colab": {
          "base_uri": "https://localhost:8080/"
        },
        "outputId": "5aa7061b-f5b3-4a30-9ef7-b69d81b0bacb"
      },
      "outputs": [
        {
          "output_type": "stream",
          "name": "stdout",
          "text": [
            "(2500, 785)\n"
          ]
        }
      ],
      "source": [
        "train_X = train.iloc[:,1:]\n",
        "u = np.ones([np.shape(train_X)[0], 1])\n",
        "train_X = np.concatenate((u, train_X), axis = 1)\n",
        "print(np.shape(train_X))"
      ]
    },
    {
      "cell_type": "code",
      "execution_count": 107,
      "metadata": {
        "colab": {
          "base_uri": "https://localhost:8080/"
        },
        "id": "0BIZ_83i9I1m",
        "outputId": "5de6fdf1-6882-4b98-99c6-eed91f004c6b"
      },
      "outputs": [
        {
          "output_type": "stream",
          "name": "stdout",
          "text": [
            "[[0. 0. 0. ... 0. 0. 0.]\n",
            " [0. 0. 0. ... 0. 0. 0.]\n",
            " [0. 0. 0. ... 0. 0. 0.]\n",
            " ...\n",
            " [0. 0. 0. ... 0. 0. 0.]\n",
            " [0. 0. 0. ... 0. 0. 0.]\n",
            " [0. 0. 0. ... 0. 0. 0.]]\n"
          ]
        }
      ],
      "source": [
        "train_Y = train.iloc[:,0]\n",
        "ynew = np.zeros([np.size(train_Y),len(set(train_Y))])\n",
        "for i in range(0,np.size(train_Y)):\n",
        "   for j in range(1, len(set(train_Y))+1):\n",
        "     if train_Y[i] == j:\n",
        "       ynew[i, j-1] = 1\n",
        "print(ynew)"
      ]
    },
    {
      "cell_type": "code",
      "execution_count": 108,
      "metadata": {
        "id": "iVtgrkL8FFal"
      },
      "outputs": [],
      "source": [
        "def sigmoid(x):\n",
        "  return 1/(1 + np.exp(-x))"
      ]
    },
    {
      "cell_type": "code",
      "execution_count": 109,
      "metadata": {
        "id": "kGAFL_8B2lLn"
      },
      "outputs": [],
      "source": [
        "def grad(X, Y, learningrate, itrn):\n",
        "  m = np.shape(X)[0] # training set length\n",
        "\n",
        "  theta = np.zeros( (X.shape[1] , 26) ) # initializing theta\n",
        "  \n",
        "  cost_all = [] # to store cost Function\n",
        "\n",
        "  for z in range(itrn): \n",
        "\n",
        "      x = np.dot(X, theta) # hypothesis\n",
        "\n",
        "      yprobability = sigmoid(x)\n",
        "\n",
        "      cost = (1/m)*np.sum((-Y*np.log(yprobability)) - ((1-Y)*np.log(1-yprobability))) # Cost Function\n",
        "\n",
        "      dif = (1/m)* np.dot(X.T, yprobability - Y) # differentiating Cost Function w.r.t Theta\n",
        "\n",
        "      theta = theta - learningrate*dif # updating theta\n",
        "\n",
        "      cost_all.append(cost) # updating cost Function list\n",
        "\n",
        "\n",
        "      # to see if cost is decreasing\n",
        "\n",
        "      if (z % (itrn/10)  == 0):\n",
        "        print(\"Cost is\", cost)\n",
        "\n",
        "  return yprobability , cost_all"
      ]
    },
    {
      "cell_type": "code",
      "execution_count": 110,
      "metadata": {
        "id": "lyLjcBapa0Y3"
      },
      "outputs": [],
      "source": [
        "itrn = 5000\n",
        "learningrate = 0.00002"
      ]
    },
    {
      "cell_type": "code",
      "execution_count": 111,
      "metadata": {
        "colab": {
          "base_uri": "https://localhost:8080/"
        },
        "id": "4YA5G86o6IrM",
        "outputId": "4545e3f5-eda6-49fa-95ff-e142c1b2fdbf"
      },
      "outputs": [
        {
          "output_type": "stream",
          "name": "stdout",
          "text": [
            "Cost is 18.02182669455858\n",
            "Cost is 1.4235725769634735\n",
            "Cost is 1.2009013222977374\n",
            "Cost is 1.0621219299484095\n",
            "Cost is 0.9612397273661862\n",
            "Cost is 0.8825463586086202\n",
            "Cost is 0.8184764276738915\n",
            "Cost is 0.7647913130413949\n",
            "Cost is 0.718879050917607\n",
            "Cost is 0.6790112503663177\n"
          ]
        }
      ],
      "source": [
        "yprobability , cost_all = grad(Y= ynew, X=train_X , learningrate=learningrate, itrn = itrn)"
      ]
    },
    {
      "cell_type": "code",
      "execution_count": 112,
      "metadata": {
        "colab": {
          "base_uri": "https://localhost:8080/",
          "height": 283
        },
        "id": "aV_x5ukeTkaT",
        "outputId": "c25c77cd-ed09-42a8-c207-eba6facdd17f"
      },
      "outputs": [
        {
          "output_type": "execute_result",
          "data": {
            "text/plain": [
              "[<matplotlib.lines.Line2D at 0x7f501f2a1350>]"
            ]
          },
          "metadata": {},
          "execution_count": 112
        },
        {
          "output_type": "display_data",
          "data": {
            "text/plain": [
              "<Figure size 432x288 with 1 Axes>"
            ],
            "image/png": "[encoded data removed]"
          },
          "metadata": {
            "needs_background": "light"
          }
        }
      ],
      "source": [
        "plt.plot(np.arange(itrn), cost_all)"
      ]
    },
    {
      "cell_type": "code",
      "execution_count": 113,
      "metadata": {
        "colab": {
          "base_uri": "https://localhost:8080/"
        },
        "id": "PHS5SOBNKDeF",
        "outputId": "09664348-50cf-4236-d81e-aaf49ffa515f"
      },
      "outputs": [
        {
          "output_type": "stream",
          "name": "stdout",
          "text": [
            "[[1.83116057e-04 1.40903440e-08 3.56222690e-05 ... 3.65414938e-11\n",
            "  1.83075766e-15 6.07523586e-16]\n",
            " [4.35088838e-07 9.54025732e-03 1.71445873e-05 ... 8.46962644e-09\n",
            "  6.37381004e-07 1.33644933e-03]\n",
            " [1.54387363e-03 5.65922704e-07 6.38961832e-02 ... 3.09406246e-09\n",
            "  6.74997407e-20 8.11273293e-04]\n",
            " ...\n",
            " [1.33701670e-03 1.35119988e-05 3.00461311e-06 ... 1.11196992e-10\n",
            "  1.18756184e-18 6.31201652e-10]\n",
            " [4.00468191e-06 1.61049117e-04 1.85864437e-07 ... 6.22400176e-04\n",
            "  7.85457842e-10 1.18285044e-02]\n",
            " [3.45852425e-05 2.96241242e-05 1.76758771e-09 ... 1.12516854e-04\n",
            "  1.80998295e-07 5.51040431e-07]]\n"
          ]
        }
      ],
      "source": [
        "print((yprobability))"
      ]
    },
    {
      "cell_type": "code",
      "execution_count": 114,
      "metadata": {
        "colab": {
          "base_uri": "https://localhost:8080/"
        },
        "id": "yuMuMNlUBL7u",
        "outputId": "655d384e-b883-42b5-b22d-4c7cfc2b6be7"
      },
      "outputs": [
        {
          "output_type": "execute_result",
          "data": {
            "text/plain": [
              "array([[0., 0., 0., ..., 0., 0., 0.],\n",
              "       [0., 0., 0., ..., 0., 0., 0.],\n",
              "       [0., 0., 0., ..., 0., 0., 0.],\n",
              "       ...,\n",
              "       [0., 0., 0., ..., 0., 0., 0.],\n",
              "       [0., 0., 0., ..., 0., 0., 0.],\n",
              "       [0., 0., 0., ..., 0., 0., 0.]])"
            ]
          },
          "metadata": {},
          "execution_count": 114
        }
      ],
      "source": [
        "for i in range(np.shape(yprobability)[0]):\n",
        "  for j in range(np.shape(yprobability)[1]):\n",
        "    if yprobability[i][j] < 0.5:\n",
        "      yprobability[i][j] = False\n",
        "    else:\n",
        "      yprobability[i][j] = True\n",
        "yprobability"
      ]
    },
    {
      "cell_type": "code",
      "source": [
        "error = (1/train_X.shape[0])*np.sum(np.abs(yprobability - ynew))\n",
        "print(error*100 , \"%\")"
      ],
      "metadata": {
        "colab": {
          "base_uri": "https://localhost:8080/"
        },
        "id": "cTSkG2LbBm1B",
        "outputId": "ba5b154c-364d-4f0d-b6b6-5002de5592f8"
      },
      "execution_count": 115,
      "outputs": [
        {
          "output_type": "stream",
          "name": "stdout",
          "text": [
            "15.960000000000003 %\n"
          ]
        }
      ]
    }
  ],
  "metadata": {
    "colab": {
      "collapsed_sections": [],
      "name": "Logistic Regression.ipynb",
      "provenance": []
    },
    "kernelspec": {
      "display_name": "Python 3",
      "name": "python3"
    },
    "language_info": {
      "name": "python"
    }
  },
  "nbformat": 4,
  "nbformat_minor": 0
}