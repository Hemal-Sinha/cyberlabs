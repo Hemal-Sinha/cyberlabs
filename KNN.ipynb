{
  "cells": [
    {
      "cell_type": "code",
      "execution_count": null,
      "metadata": {
        "id": "7x1uv4I5v_sl"
      },
      "outputs": [],
      "source": [
        "import pandas as pd\n",
        "import numpy as np\n",
        "import matplotlib.pyplot as plt\n",
        "from scipy.stats import mode"
      ]
    },
    {
      "cell_type": "code",
      "execution_count": null,
      "metadata": {
        "colab": {
          "base_uri": "https://localhost:8080/"
        },
        "id": "BpUwb1-cXv04",
        "outputId": "ccfa9ace-b1f7-4285-d87f-d74286463565"
      },
      "outputs": [
        {
          "name": "stdout",
          "output_type": "stream",
          "text": [
            "Drive already mounted at /content/drive; to attempt to forcibly remount, call drive.mount(\"/content/drive\", force_remount=True).\n"
          ]
        }
      ],
      "source": [
        "from google.colab import drive\n",
        "drive.mount('/content/drive')"
      ]
    },
    {
      "cell_type": "code",
      "execution_count": null,
      "metadata": {
        "colab": {
          "base_uri": "https://localhost:8080/"
        },
        "id": "4sSdWjWLYCfO",
        "outputId": "46ec1b56-1033-4392-f02b-c69b96a703f6"
      },
      "outputs": [
        {
          "name": "stdout",
          "output_type": "stream",
          "text": [
            "mkdir: cannot create directory ‘/content/drive/MyDrive/KNN_data’: File exists\n"
          ]
        }
      ],
      "source": [
        "!mkdir /content/drive/MyDrive/KNN_data"
      ]
    },
    {
      "cell_type": "code",
      "execution_count": null,
      "metadata": {
        "colab": {
          "base_uri": "https://localhost:8080/"
        },
        "id": "Rh2W4PHQZBpv",
        "outputId": "45b3930b-e528-4a35-cf0f-c09ff1fe642e"
      },
      "outputs": [
        {
          "name": "stdout",
          "output_type": "stream",
          "text": [
            "/content/drive/MyDrive/KNN_data\n"
          ]
        }
      ],
      "source": [
        "%cd /content/drive/MyDrive/KNN_data"
      ]
    },
    {
      "cell_type": "code",
      "execution_count": null,
      "metadata": {
        "colab": {
          "base_uri": "https://localhost:8080/"
        },
        "id": "I3IqiYbqZJJv",
        "outputId": "d359df13-d35c-4364-86e9-2505f1848728"
      },
      "outputs": [
        {
          "name": "stdout",
          "output_type": "stream",
          "text": [
            "/content/drive/MyDrive/KNN_data\n"
          ]
        }
      ],
      "source": [
        "!pwd"
      ]
    },
    {
      "cell_type": "code",
      "execution_count": null,
      "metadata": {
        "colab": {
          "base_uri": "https://localhost:8080/"
        },
        "id": "Oo8gKdjNZNkj",
        "outputId": "15069a66-ef62-4d84-cf4e-3132d4c93358"
      },
      "outputs": [
        {
          "name": "stdout",
          "output_type": "stream",
          "text": [
            "'emnist-letters-test (1).csv'  'emnist-letters-train (1).csv'\n"
          ]
        }
      ],
      "source": [
        "!ls"
      ]
    },
    {
      "cell_type": "code",
      "execution_count": null,
      "metadata": {
        "id": "9NfYZF1LZP_O"
      },
      "outputs": [],
      "source": [
        "train_path = '/content/drive/MyDrive/KNN_data/emnist-letters-train (1).csv'\n",
        "test_path = '/content/drive/MyDrive/KNN_data/emnist-letters-test (1).csv'"
      ]
    },
    {
      "cell_type": "code",
      "execution_count": null,
      "metadata": {
        "colab": {
          "base_uri": "https://localhost:8080/"
        },
        "id": "6KoNqY8AZdaz",
        "outputId": "355d1028-caa8-4015-bc92-c62b7647ae52"
      },
      "outputs": [
        {
          "name": "stdout",
          "output_type": "stream",
          "text": [
            "[[ 7.  0.  0. ...  0.  0.  0.]\n",
            " [16.  0.  0. ...  0.  0.  0.]\n",
            " [15.  0.  0. ...  0.  0.  0.]\n",
            " ...\n",
            " [ 8.  0.  0. ...  0.  0.  0.]\n",
            " [11.  0.  0. ...  0.  0.  0.]\n",
            " [ 5.  0.  0. ... nan nan nan]]\n"
          ]
        }
      ],
      "source": [
        "train = pd.read_csv(train_path)\n",
        "train = train.to_numpy()\n",
        "print(train)"
      ]
    },
    {
      "cell_type": "code",
      "execution_count": 70,
      "metadata": {
        "colab": {
          "base_uri": "https://localhost:8080/"
        },
        "id": "09BTDqzMi-FV",
        "outputId": "6d570284-4f35-4ed1-8c88-c687e5008979"
      },
      "outputs": [
        {
          "output_type": "execute_result",
          "data": {
            "text/plain": [
              "array([[ 1,  0,  0, ...,  0,  0,  0],\n",
              "       [ 1,  0,  0, ...,  0,  0,  0],\n",
              "       [ 1,  0,  0, ...,  0,  0,  0],\n",
              "       ...,\n",
              "       [19,  0,  0, ...,  0,  0,  0],\n",
              "       [19,  0,  0, ...,  0,  0,  0],\n",
              "       [19,  0,  0, ...,  0,  0,  0]])"
            ]
          },
          "metadata": {},
          "execution_count": 70
        }
      ],
      "source": [
        "test = pd.read_csv(test_path)\n",
        "test = test.to_numpy()\n",
        "test"
      ]
    },
    {
      "cell_type": "code",
      "execution_count": 71,
      "metadata": {
        "id": "_-YAanCC68uW"
      },
      "outputs": [],
      "source": [
        "train_X = train[0:20000, 1:]\n",
        "train_Y = train[0:20000 , 0]"
      ]
    },
    {
      "cell_type": "code",
      "execution_count": 72,
      "metadata": {
        "id": "769S3lEN8N1F"
      },
      "outputs": [],
      "source": [
        "test_X = test[0 : 1000 , 1: ]\n",
        "\n",
        "test_Y = test[0 : 1000 , 0]"
      ]
    },
    {
      "cell_type": "code",
      "execution_count": 73,
      "metadata": {
        "id": "MhmV2I2qo3ng"
      },
      "outputs": [],
      "source": [
        "distance = []"
      ]
    },
    {
      "cell_type": "code",
      "execution_count": 74,
      "metadata": {
        "id": "SWE5MhZFIzjg"
      },
      "outputs": [],
      "source": [
        "def model(test_X , test_Y , train_X , train_Y , k):\n",
        "  prediction = []\n",
        "  for i in range(0 , test_X.shape[0]):\n",
        "    for j in range(0, train_X.shape[0]):\n",
        "      euclidean_dist =np.sqrt(np.sum((train_X[j] - test_X[i])**2))\n",
        "      distance.append(euclidean_dist)\n",
        "    d = list(zip(distance , train_Y.tolist()))\n",
        "    df = pd.DataFrame(d , columns=['Dist_data', 'Train_Y'])\n",
        "    next_list = df.sort_values(by = ['Dist_data'], axis = 0)[:k]\n",
        "    next = next_list.iloc[:, 1]\n",
        "    moded = mode(next).mode[0]\n",
        "    prediction.append(moded)\n",
        "  return prediction"
      ]
    },
    {
      "cell_type": "code",
      "execution_count": 75,
      "metadata": {
        "id": "ngqnoHk6YMMu"
      },
      "outputs": [],
      "source": [
        "def accuracy(label ,  f_predict):\n",
        "  truthtable = (label == f_predict).astype(int)\n",
        "  truthlist = truthtable.tolist()\n",
        "  accuracy = (truthlist.count(1))*(100/(np.shape(f_predict)[0]))\n",
        "  print(accuracy,\"%\")\n",
        "  return accuracy"
      ]
    },
    {
      "cell_type": "code",
      "execution_count": 76,
      "metadata": {
        "id": "dLHcB5UWku9D"
      },
      "outputs": [],
      "source": [
        "k = 3"
      ]
    },
    {
      "cell_type": "code",
      "execution_count": 77,
      "metadata": {
        "id": "0hcNa_F-kPJP"
      },
      "outputs": [],
      "source": [
        "output = model(test_X , test_Y , train_X , train_Y , k )"
      ]
    },
    {
      "cell_type": "code",
      "execution_count": 78,
      "metadata": {
        "colab": {
          "base_uri": "https://localhost:8080/"
        },
        "id": "9Cps-syklI6Z",
        "outputId": "6b51cdf9-1a1d-4044-ca54-0ff65dfbb8e3"
      },
      "outputs": [
        {
          "output_type": "stream",
          "name": "stdout",
          "text": [
            "79.9 %\n"
          ]
        },
        {
          "output_type": "execute_result",
          "data": {
            "text/plain": [
              "79.9"
            ]
          },
          "metadata": {},
          "execution_count": 78
        }
      ],
      "source": [
        "accuracy(test_Y, output)"
      ]
    }
  ],
  "metadata": {
    "colab": {
      "collapsed_sections": [],
      "name": "KNN.ipynb",
      "provenance": []
    },
    "kernelspec": {
      "display_name": "Python 3",
      "name": "python3"
    },
    "language_info": {
      "name": "python"
    }
  },
  "nbformat": 4,
  "nbformat_minor": 0
}