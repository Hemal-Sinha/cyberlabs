{
  "cells": [
    {
      "cell_type": "code",
      "execution_count": null,
      "metadata": {
        "id": "7x1uv4I5v_sl"
      },
      "outputs": [],
      "source": [
        "import pandas as pd\n",
        "import numpy as np\n",
        "import matplotlib.pyplot as plt\n",
        "from scipy.stats import mode"
      ]
    },
    {
      "cell_type": "code",
      "execution_count": null,
      "metadata": {
        "colab": {
          "base_uri": "https://localhost:8080/"
        },
        "id": "BpUwb1-cXv04",
        "outputId": "19fc5c82-a190-495f-b8b5-f1a2a12e8a08"
      },
      "outputs": [
        {
          "output_type": "stream",
          "name": "stdout",
          "text": [
            "Drive already mounted at /content/drive; to attempt to forcibly remount, call drive.mount(\"/content/drive\", force_remount=True).\n"
          ]
        }
      ],
      "source": [
        "from google.colab import drive\n",
        "drive.mount('/content/drive')"
      ]
    },
    {
      "cell_type": "code",
      "execution_count": null,
      "metadata": {
        "colab": {
          "base_uri": "https://localhost:8080/"
        },
        "id": "4sSdWjWLYCfO",
        "outputId": "43f789f9-deaa-41cd-c3de-f65d204da9e2"
      },
      "outputs": [
        {
          "output_type": "stream",
          "name": "stdout",
          "text": [
            "mkdir: cannot create directory ‘/content/drive/MyDrive/KNN_data’: File exists\n"
          ]
        }
      ],
      "source": [
        "!mkdir /content/drive/MyDrive/KNN_data"
      ]
    },
    {
      "cell_type": "code",
      "execution_count": null,
      "metadata": {
        "colab": {
          "base_uri": "https://localhost:8080/"
        },
        "id": "Rh2W4PHQZBpv",
        "outputId": "d555e89f-3050-4c48-b681-c18c0812008c"
      },
      "outputs": [
        {
          "output_type": "stream",
          "name": "stdout",
          "text": [
            "/content/drive/MyDrive/KNN_data\n"
          ]
        }
      ],
      "source": [
        "%cd /content/drive/MyDrive/KNN_data"
      ]
    },
    {
      "cell_type": "code",
      "execution_count": null,
      "metadata": {
        "colab": {
          "base_uri": "https://localhost:8080/"
        },
        "id": "I3IqiYbqZJJv",
        "outputId": "bdaa33e0-6b7f-4641-e5ac-3dd769705d07"
      },
      "outputs": [
        {
          "output_type": "stream",
          "name": "stdout",
          "text": [
            "/content/drive/MyDrive/KNN_data\n"
          ]
        }
      ],
      "source": [
        "!pwd"
      ]
    },
    {
      "cell_type": "code",
      "execution_count": null,
      "metadata": {
        "colab": {
          "base_uri": "https://localhost:8080/"
        },
        "id": "Oo8gKdjNZNkj",
        "outputId": "a34d0971-20df-4461-de4e-9848d20a47a8"
      },
      "outputs": [
        {
          "output_type": "stream",
          "name": "stdout",
          "text": [
            "'emnist-letters-test (1).csv'  'emnist-letters-train (1).csv'\n"
          ]
        }
      ],
      "source": [
        "!ls"
      ]
    },
    {
      "cell_type": "code",
      "execution_count": null,
      "metadata": {
        "id": "9NfYZF1LZP_O"
      },
      "outputs": [],
      "source": [
        "train_path = '/content/drive/MyDrive/KNN_data/emnist-letters-train (1).csv'\n",
        "test_path = '/content/drive/MyDrive/KNN_data/emnist-letters-test (1).csv'"
      ]
    },
    {
      "cell_type": "code",
      "execution_count": null,
      "metadata": {
        "colab": {
          "base_uri": "https://localhost:8080/"
        },
        "id": "6KoNqY8AZdaz",
        "outputId": "260c1385-9b00-477e-a9e6-8ed7f4a69e8e"
      },
      "outputs": [
        {
          "output_type": "stream",
          "name": "stdout",
          "text": [
            "[[ 7.  0.  0. ...  0.  0.  0.]\n",
            " [16.  0.  0. ...  0.  0.  0.]\n",
            " [15.  0.  0. ...  0.  0.  0.]\n",
            " ...\n",
            " [ 8.  0.  0. ...  0.  0.  0.]\n",
            " [11.  0.  0. ...  0.  0.  0.]\n",
            " [ 5.  0.  0. ... nan nan nan]]\n"
          ]
        }
      ],
      "source": [
        "train = pd.read_csv(train_path)\n",
        "train = train.to_numpy()\n",
        "print(train)"
      ]
    },
    {
      "cell_type": "code",
      "execution_count": null,
      "metadata": {
        "colab": {
          "base_uri": "https://localhost:8080/"
        },
        "id": "09BTDqzMi-FV",
        "outputId": "1857b56b-b1b9-461b-eb72-6bbb8dad1426"
      },
      "outputs": [
        {
          "output_type": "execute_result",
          "data": {
            "text/plain": [
              "array([[ 1,  0,  0, ...,  0,  0,  0],\n",
              "       [ 1,  0,  0, ...,  0,  0,  0],\n",
              "       [ 1,  0,  0, ...,  0,  0,  0],\n",
              "       ...,\n",
              "       [19,  0,  0, ...,  0,  0,  0],\n",
              "       [19,  0,  0, ...,  0,  0,  0],\n",
              "       [19,  0,  0, ...,  0,  0,  0]])"
            ]
          },
          "metadata": {},
          "execution_count": 46
        }
      ],
      "source": [
        "test = pd.read_csv(test_path)\n",
        "test = test.to_numpy()\n",
        "test"
      ]
    },
    {
      "cell_type": "code",
      "execution_count": null,
      "metadata": {
        "id": "_-YAanCC68uW"
      },
      "outputs": [],
      "source": [
        "train_X = train[0:20000, 1:]\n",
        "train_Y = train[0:20000 , 0]"
      ]
    },
    {
      "cell_type": "code",
      "execution_count": null,
      "metadata": {
        "id": "769S3lEN8N1F"
      },
      "outputs": [],
      "source": [
        "test_X = test[0 : 1000 , 1: ]\n",
        "\n",
        "test_Y = test[0 : 1000 , 0]"
      ]
    },
    {
      "cell_type": "code",
      "execution_count": null,
      "metadata": {
        "id": "MhmV2I2qo3ng"
      },
      "outputs": [],
      "source": [
        "distance = []"
      ]
    },
    {
      "cell_type": "code",
      "execution_count": null,
      "metadata": {
        "id": "SWE5MhZFIzjg"
      },
      "outputs": [],
      "source": [
        "def model(test_X , test_Y , train_X , train_Y , k):\n",
        "  prediction = []\n",
        "  for i in range(0 , test_X.shape[0]):\n",
        "    for j in range(0, train_X.shape[0]):\n",
        "      euclidean_dist =np.sqrt(np.sum((train_X[j] - test_X[i])**2))\n",
        "      distance.append(euclidean_dist)\n",
        "    d = list(zip(distance , train_Y.tolist()))\n",
        "    df = pd.DataFrame(d , columns=['Dist_data', 'Train_Y'])\n",
        "    next_list = df.sort_values(by = ['Dist_data'], axis = 0)[:k]\n",
        "    next = next_list.iloc[:, 1]\n",
        "    moded = mode(next).mode[0]\n",
        "    prediction.append(moded)\n",
        "  return prediction"
      ]
    },
    {
      "cell_type": "code",
      "execution_count": null,
      "metadata": {
        "id": "ngqnoHk6YMMu"
      },
      "outputs": [],
      "source": [
        "def accuracy(label ,  f_predict):\n",
        "  truthtable = (label == f_predict).astype(int)\n",
        "  truthlist = truthtable.tolist()\n",
        "  accuracy = (truthlist.count(1))*(100/(np.shape(f_predict)[0]))\n",
        "  print(accuracy,\"%\")\n",
        "  return accuracy"
      ]
    },
    {
      "cell_type": "code",
      "execution_count": null,
      "metadata": {
        "id": "dLHcB5UWku9D"
      },
      "outputs": [],
      "source": [
        "k = 3"
      ]
    },
    {
      "cell_type": "code",
      "execution_count": null,
      "metadata": {
        "id": "0hcNa_F-kPJP"
      },
      "outputs": [],
      "source": [
        "output = model(test_X , test_Y , train_X , train_Y , k )"
      ]
    },
    {
      "cell_type": "code",
      "execution_count": null,
      "metadata": {
        "colab": {
          "base_uri": "https://localhost:8080/"
        },
        "id": "9Cps-syklI6Z",
        "outputId": "72a28dd5-b07a-4b3a-cb5e-fa5b1419d430"
      },
      "outputs": [
        {
          "output_type": "stream",
          "name": "stdout",
          "text": [
            "79.9 %\n"
          ]
        },
        {
          "output_type": "execute_result",
          "data": {
            "text/plain": [
              "79.9"
            ]
          },
          "metadata": {},
          "execution_count": 54
        }
      ],
      "source": [
        "accuracy(test_Y, output)"
      ]
    }
  ],
  "metadata": {
    "colab": {
      "collapsed_sections": [],
      "name": "KNN.ipynb",
      "provenance": []
    },
    "kernelspec": {
      "display_name": "Python 3",
      "name": "python3"
    },
    "language_info": {
      "name": "python"
    }
  },
  "nbformat": 4,
  "nbformat_minor": 0
}