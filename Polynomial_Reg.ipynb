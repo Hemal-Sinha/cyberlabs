{
  "nbformat": 4,
  "nbformat_minor": 0,
  "metadata": {
    "colab": {
      "name": "Polynomial Reg.ipynb",
      "provenance": [],
      "collapsed_sections": []
    },
    "kernelspec": {
      "name": "python3",
      "display_name": "Python 3"
    },
    "language_info": {
      "name": "python"
    }
  },
  "cells": [
    {
      "cell_type": "code",
      "execution_count": null,
      "metadata": {
        "id": "XlhKIjr-VtCD"
      },
      "outputs": [],
      "source": [
        "import pandas as pd\n",
        "import numpy as np\n",
        "import matplotlib.pyplot as plt"
      ]
    },
    {
      "cell_type": "code",
      "source": [
        "from google.colab import drive\n",
        "drive.mount('/content/drive')"
      ],
      "metadata": {
        "colab": {
          "base_uri": "https://localhost:8080/"
        },
        "id": "_0yqoHSRV83N",
        "outputId": "baa4b4af-bd5c-4a14-9263-76677f4753a9"
      },
      "execution_count": null,
      "outputs": [
        {
          "output_type": "stream",
          "name": "stdout",
          "text": [
            "Drive already mounted at /content/drive; to attempt to forcibly remount, call drive.mount(\"/content/drive\", force_remount=True).\n"
          ]
        }
      ]
    },
    {
      "cell_type": "code",
      "source": [
        "%cd /content/drive/MyDrive\n",
        "!mkdir polynomial_data"
      ],
      "metadata": {
        "colab": {
          "base_uri": "https://localhost:8080/"
        },
        "id": "EAI1yO-NWR0Y",
        "outputId": "ba727b3d-319d-49cc-bd1f-4a8032091641"
      },
      "execution_count": null,
      "outputs": [
        {
          "output_type": "stream",
          "name": "stdout",
          "text": [
            "/content/drive/MyDrive\n",
            "mkdir: cannot create directory ‘polynomial_data’: File exists\n"
          ]
        }
      ]
    },
    {
      "cell_type": "code",
      "source": [
        "!pwd"
      ],
      "metadata": {
        "colab": {
          "base_uri": "https://localhost:8080/"
        },
        "id": "tPWrOzvbXA2S",
        "outputId": "354a64a3-f161-4661-abc4-1cb51792fb52"
      },
      "execution_count": null,
      "outputs": [
        {
          "output_type": "stream",
          "name": "stdout",
          "text": [
            "/content/drive/MyDrive\n"
          ]
        }
      ]
    },
    {
      "cell_type": "code",
      "source": [
        "%cd /content/drive/MyDrive/polynomial_data\n"
      ],
      "metadata": {
        "colab": {
          "base_uri": "https://localhost:8080/"
        },
        "id": "_0e67zF-XhWm",
        "outputId": "fec6cbc5-f572-4289-a98b-e5633f6b5b31"
      },
      "execution_count": null,
      "outputs": [
        {
          "output_type": "stream",
          "name": "stdout",
          "text": [
            "/content/drive/MyDrive/polynomial_data\n"
          ]
        }
      ]
    },
    {
      "cell_type": "code",
      "source": [
        "%cd /content/drive/MyDrive/polynomial_data/Polynomial_train.csv /content/drive/MyDrive/polynomial_data\n",
        "%cd /content/drive/MyDrive/polynomial_data/Polynomial_test.csv /content/drive/MyDrive/polynomial_data"
      ],
      "metadata": {
        "colab": {
          "base_uri": "https://localhost:8080/"
        },
        "id": "3koJC0TVZmUQ",
        "outputId": "5995e2d2-afb9-4433-a2d9-602225088176"
      },
      "execution_count": null,
      "outputs": [
        {
          "output_type": "stream",
          "name": "stdout",
          "text": [
            "[Errno 2] No such file or directory: '/content/drive/MyDrive/polynomial_data/Polynomial_train.csv /content/drive/MyDrive/polynomial_data'\n",
            "/content/drive/MyDrive/polynomial_data\n",
            "[Errno 2] No such file or directory: '/content/drive/MyDrive/polynomial_data/Polynomial_test.csv /content/drive/MyDrive/polynomial_data'\n",
            "/content/drive/MyDrive/polynomial_data\n"
          ]
        }
      ]
    },
    {
      "cell_type": "code",
      "source": [
        "!ls"
      ],
      "metadata": {
        "colab": {
          "base_uri": "https://localhost:8080/"
        },
        "id": "KSAVdufWZQ3_",
        "outputId": "90203739-a2de-40c5-a3a7-77dc792c3740"
      },
      "execution_count": null,
      "outputs": [
        {
          "output_type": "stream",
          "name": "stdout",
          "text": [
            "Polynomial_test.csv  Polynomial_train.csv\n"
          ]
        }
      ]
    },
    {
      "cell_type": "code",
      "source": [
        "train= pd.read_csv('/content/drive/MyDrive/polynomial_data/Polynomial_train.csv')\n",
        "test= pd.read_csv('/content/drive/MyDrive/polynomial_data/Polynomial_test.csv')"
      ],
      "metadata": {
        "id": "H_VKe7LaZ6Vc"
      },
      "execution_count": null,
      "outputs": []
    },
    {
      "cell_type": "code",
      "source": [
        "train = train.loc[1:4000, :]\n",
        "train"
      ],
      "metadata": {
        "colab": {
          "base_uri": "https://localhost:8080/",
          "height": 423
        },
        "id": "axx3OWT8aOS3",
        "outputId": "7439f454-9cf4-469a-c635-c2f4aa82e93a"
      },
      "execution_count": null,
      "outputs": [
        {
          "output_type": "execute_result",
          "data": {
            "text/plain": [
              "      Unnamed: 0         X         Y         Z        label\n",
              "1              1 -1.366446 -3.761945 -8.756162   136.398375\n",
              "2              2 -4.090270 -1.836218 -1.846066  -310.724813\n",
              "3              3 -8.730478 -1.923651  3.892972     1.755447\n",
              "4              4  5.367169  0.358357  6.703989  -343.582590\n",
              "5              5 -2.124609 -6.995365  6.426205  -674.400414\n",
              "...          ...       ...       ...       ...          ...\n",
              "3996        3996 -2.928809  0.759360 -7.409359   -46.735152\n",
              "3997        3997 -5.012098 -5.122227  1.072615  -886.196844\n",
              "3998        3998 -4.111935  0.333718  5.883085   551.120240\n",
              "3999        3999 -3.280376 -9.030230  5.750285 -1312.024175\n",
              "4000        4000  0.264469  5.308213  9.592565   503.248746\n",
              "\n",
              "[4000 rows x 5 columns]"
            ],
            "text/html": [
              "\n",
              "  <div id=\"df-bb2521ec-2435-48af-8b1c-62f66098d770\">\n",
              "    <div class=\"colab-df-container\">\n",
              "      <div>\n",
              "<style scoped>\n",
              "    .dataframe tbody tr th:only-of-type {\n",
              "        vertical-align: middle;\n",
              "    }\n",
              "\n",
              "    .dataframe tbody tr th {\n",
              "        vertical-align: top;\n",
              "    }\n",
              "\n",
              "    .dataframe thead th {\n",
              "        text-align: right;\n",
              "    }\n",
              "</style>\n",
              "<table border=\"1\" class=\"dataframe\">\n",
              "  <thead>\n",
              "    <tr style=\"text-align: right;\">\n",
              "      <th></th>\n",
              "      <th>Unnamed: 0</th>\n",
              "      <th>X</th>\n",
              "      <th>Y</th>\n",
              "      <th>Z</th>\n",
              "      <th>label</th>\n",
              "    </tr>\n",
              "  </thead>\n",
              "  <tbody>\n",
              "    <tr>\n",
              "      <th>1</th>\n",
              "      <td>1</td>\n",
              "      <td>-1.366446</td>\n",
              "      <td>-3.761945</td>\n",
              "      <td>-8.756162</td>\n",
              "      <td>136.398375</td>\n",
              "    </tr>\n",
              "    <tr>\n",
              "      <th>2</th>\n",
              "      <td>2</td>\n",
              "      <td>-4.090270</td>\n",
              "      <td>-1.836218</td>\n",
              "      <td>-1.846066</td>\n",
              "      <td>-310.724813</td>\n",
              "    </tr>\n",
              "    <tr>\n",
              "      <th>3</th>\n",
              "      <td>3</td>\n",
              "      <td>-8.730478</td>\n",
              "      <td>-1.923651</td>\n",
              "      <td>3.892972</td>\n",
              "      <td>1.755447</td>\n",
              "    </tr>\n",
              "    <tr>\n",
              "      <th>4</th>\n",
              "      <td>4</td>\n",
              "      <td>5.367169</td>\n",
              "      <td>0.358357</td>\n",
              "      <td>6.703989</td>\n",
              "      <td>-343.582590</td>\n",
              "    </tr>\n",
              "    <tr>\n",
              "      <th>5</th>\n",
              "      <td>5</td>\n",
              "      <td>-2.124609</td>\n",
              "      <td>-6.995365</td>\n",
              "      <td>6.426205</td>\n",
              "      <td>-674.400414</td>\n",
              "    </tr>\n",
              "    <tr>\n",
              "      <th>...</th>\n",
              "      <td>...</td>\n",
              "      <td>...</td>\n",
              "      <td>...</td>\n",
              "      <td>...</td>\n",
              "      <td>...</td>\n",
              "    </tr>\n",
              "    <tr>\n",
              "      <th>3996</th>\n",
              "      <td>3996</td>\n",
              "      <td>-2.928809</td>\n",
              "      <td>0.759360</td>\n",
              "      <td>-7.409359</td>\n",
              "      <td>-46.735152</td>\n",
              "    </tr>\n",
              "    <tr>\n",
              "      <th>3997</th>\n",
              "      <td>3997</td>\n",
              "      <td>-5.012098</td>\n",
              "      <td>-5.122227</td>\n",
              "      <td>1.072615</td>\n",
              "      <td>-886.196844</td>\n",
              "    </tr>\n",
              "    <tr>\n",
              "      <th>3998</th>\n",
              "      <td>3998</td>\n",
              "      <td>-4.111935</td>\n",
              "      <td>0.333718</td>\n",
              "      <td>5.883085</td>\n",
              "      <td>551.120240</td>\n",
              "    </tr>\n",
              "    <tr>\n",
              "      <th>3999</th>\n",
              "      <td>3999</td>\n",
              "      <td>-3.280376</td>\n",
              "      <td>-9.030230</td>\n",
              "      <td>5.750285</td>\n",
              "      <td>-1312.024175</td>\n",
              "    </tr>\n",
              "    <tr>\n",
              "      <th>4000</th>\n",
              "      <td>4000</td>\n",
              "      <td>0.264469</td>\n",
              "      <td>5.308213</td>\n",
              "      <td>9.592565</td>\n",
              "      <td>503.248746</td>\n",
              "    </tr>\n",
              "  </tbody>\n",
              "</table>\n",
              "<p>4000 rows × 5 columns</p>\n",
              "</div>\n",
              "      <button class=\"colab-df-convert\" onclick=\"convertToInteractive('df-bb2521ec-2435-48af-8b1c-62f66098d770')\"\n",
              "              title=\"Convert this dataframe to an interactive table.\"\n",
              "              style=\"display:none;\">\n",
              "        \n",
              "  <svg xmlns=\"http://www.w3.org/2000/svg\" height=\"24px\"viewBox=\"0 0 24 24\"\n",
              "       width=\"24px\">\n",
              "    <path d=\"M0 0h24v24H0V0z\" fill=\"none\"/>\n",
              "    <path d=\"M18.56 5.44l.94 2.06.94-2.06 2.06-.94-2.06-.94-.94-2.06-.94 2.06-2.06.94zm-11 1L8.5 8.5l.94-2.06 2.06-.94-2.06-.94L8.5 2.5l-.94 2.06-2.06.94zm10 10l.94 2.06.94-2.06 2.06-.94-2.06-.94-.94-2.06-.94 2.06-2.06.94z\"/><path d=\"M17.41 7.96l-1.37-1.37c-.4-.4-.92-.59-1.43-.59-.52 0-1.04.2-1.43.59L10.3 9.45l-7.72 7.72c-.78.78-.78 2.05 0 2.83L4 21.41c.39.39.9.59 1.41.59.51 0 1.02-.2 1.41-.59l7.78-7.78 2.81-2.81c.8-.78.8-2.07 0-2.86zM5.41 20L4 18.59l7.72-7.72 1.47 1.35L5.41 20z\"/>\n",
              "  </svg>\n",
              "      </button>\n",
              "      \n",
              "  <style>\n",
              "    .colab-df-container {\n",
              "      display:flex;\n",
              "      flex-wrap:wrap;\n",
              "      gap: 12px;\n",
              "    }\n",
              "\n",
              "    .colab-df-convert {\n",
              "      background-color: #E8F0FE;\n",
              "      border: none;\n",
              "      border-radius: 50%;\n",
              "      cursor: pointer;\n",
              "      display: none;\n",
              "      fill: #1967D2;\n",
              "      height: 32px;\n",
              "      padding: 0 0 0 0;\n",
              "      width: 32px;\n",
              "    }\n",
              "\n",
              "    .colab-df-convert:hover {\n",
              "      background-color: #E2EBFA;\n",
              "      box-shadow: 0px 1px 2px rgba(60, 64, 67, 0.3), 0px 1px 3px 1px rgba(60, 64, 67, 0.15);\n",
              "      fill: #174EA6;\n",
              "    }\n",
              "\n",
              "    [theme=dark] .colab-df-convert {\n",
              "      background-color: #3B4455;\n",
              "      fill: #D2E3FC;\n",
              "    }\n",
              "\n",
              "    [theme=dark] .colab-df-convert:hover {\n",
              "      background-color: #434B5C;\n",
              "      box-shadow: 0px 1px 3px 1px rgba(0, 0, 0, 0.15);\n",
              "      filter: drop-shadow(0px 1px 2px rgba(0, 0, 0, 0.3));\n",
              "      fill: #FFFFFF;\n",
              "    }\n",
              "  </style>\n",
              "\n",
              "      <script>\n",
              "        const buttonEl =\n",
              "          document.querySelector('#df-bb2521ec-2435-48af-8b1c-62f66098d770 button.colab-df-convert');\n",
              "        buttonEl.style.display =\n",
              "          google.colab.kernel.accessAllowed ? 'block' : 'none';\n",
              "\n",
              "        async function convertToInteractive(key) {\n",
              "          const element = document.querySelector('#df-bb2521ec-2435-48af-8b1c-62f66098d770');\n",
              "          const dataTable =\n",
              "            await google.colab.kernel.invokeFunction('convertToInteractive',\n",
              "                                                     [key], {});\n",
              "          if (!dataTable) return;\n",
              "\n",
              "          const docLinkHtml = 'Like what you see? Visit the ' +\n",
              "            '<a target=\"_blank\" href=https://colab.research.google.com/notebooks/data_table.ipynb>data table notebook</a>'\n",
              "            + ' to learn more about interactive tables.';\n",
              "          element.innerHTML = '';\n",
              "          dataTable['output_type'] = 'display_data';\n",
              "          await google.colab.output.renderOutput(dataTable, element);\n",
              "          const docLink = document.createElement('div');\n",
              "          docLink.innerHTML = docLinkHtml;\n",
              "          element.appendChild(docLink);\n",
              "        }\n",
              "      </script>\n",
              "    </div>\n",
              "  </div>\n",
              "  "
            ]
          },
          "metadata": {},
          "execution_count": 179
        }
      ]
    },
    {
      "cell_type": "code",
      "source": [
        "test = test.loc[1:4000, :]\n",
        "test\n"
      ],
      "metadata": {
        "id": "ibb2qx0RaRsB",
        "outputId": "713d077d-ae5c-489c-b06e-59d5fdab1977",
        "colab": {
          "base_uri": "https://localhost:8080/",
          "height": 423
        }
      },
      "execution_count": null,
      "outputs": [
        {
          "output_type": "execute_result",
          "data": {
            "text/plain": [
              "      Unnamed: 0         X         Y         Z        label\n",
              "1              1  2.811964  6.142752  6.419237  -545.362524\n",
              "2              2 -2.669784  7.775091 -6.931907   -75.044187\n",
              "3              3 -6.992156 -9.205548  0.852580 -2403.124902\n",
              "4              4  1.574294 -2.213266  6.029188     8.595325\n",
              "5              5  4.759625 -5.482463 -9.330643  2035.462985\n",
              "...          ...       ...       ...       ...          ...\n",
              "3996        3996  1.894032 -2.072167  6.882649    14.856035\n",
              "3997        3997 -9.496490 -4.672709 -6.055123 -1899.285289\n",
              "3998        3998 -0.741784  1.738715  6.127188   315.081036\n",
              "3999        3999 -2.511200 -1.057216 -4.162493  -130.468526\n",
              "4000        4000  7.689523  0.505168  7.030196  -600.720621\n",
              "\n",
              "[4000 rows x 5 columns]"
            ],
            "text/html": [
              "\n",
              "  <div id=\"df-4cee9d5f-1f8f-499b-b268-91c04c021cab\">\n",
              "    <div class=\"colab-df-container\">\n",
              "      <div>\n",
              "<style scoped>\n",
              "    .dataframe tbody tr th:only-of-type {\n",
              "        vertical-align: middle;\n",
              "    }\n",
              "\n",
              "    .dataframe tbody tr th {\n",
              "        vertical-align: top;\n",
              "    }\n",
              "\n",
              "    .dataframe thead th {\n",
              "        text-align: right;\n",
              "    }\n",
              "</style>\n",
              "<table border=\"1\" class=\"dataframe\">\n",
              "  <thead>\n",
              "    <tr style=\"text-align: right;\">\n",
              "      <th></th>\n",
              "      <th>Unnamed: 0</th>\n",
              "      <th>X</th>\n",
              "      <th>Y</th>\n",
              "      <th>Z</th>\n",
              "      <th>label</th>\n",
              "    </tr>\n",
              "  </thead>\n",
              "  <tbody>\n",
              "    <tr>\n",
              "      <th>1</th>\n",
              "      <td>1</td>\n",
              "      <td>2.811964</td>\n",
              "      <td>6.142752</td>\n",
              "      <td>6.419237</td>\n",
              "      <td>-545.362524</td>\n",
              "    </tr>\n",
              "    <tr>\n",
              "      <th>2</th>\n",
              "      <td>2</td>\n",
              "      <td>-2.669784</td>\n",
              "      <td>7.775091</td>\n",
              "      <td>-6.931907</td>\n",
              "      <td>-75.044187</td>\n",
              "    </tr>\n",
              "    <tr>\n",
              "      <th>3</th>\n",
              "      <td>3</td>\n",
              "      <td>-6.992156</td>\n",
              "      <td>-9.205548</td>\n",
              "      <td>0.852580</td>\n",
              "      <td>-2403.124902</td>\n",
              "    </tr>\n",
              "    <tr>\n",
              "      <th>4</th>\n",
              "      <td>4</td>\n",
              "      <td>1.574294</td>\n",
              "      <td>-2.213266</td>\n",
              "      <td>6.029188</td>\n",
              "      <td>8.595325</td>\n",
              "    </tr>\n",
              "    <tr>\n",
              "      <th>5</th>\n",
              "      <td>5</td>\n",
              "      <td>4.759625</td>\n",
              "      <td>-5.482463</td>\n",
              "      <td>-9.330643</td>\n",
              "      <td>2035.462985</td>\n",
              "    </tr>\n",
              "    <tr>\n",
              "      <th>...</th>\n",
              "      <td>...</td>\n",
              "      <td>...</td>\n",
              "      <td>...</td>\n",
              "      <td>...</td>\n",
              "      <td>...</td>\n",
              "    </tr>\n",
              "    <tr>\n",
              "      <th>3996</th>\n",
              "      <td>3996</td>\n",
              "      <td>1.894032</td>\n",
              "      <td>-2.072167</td>\n",
              "      <td>6.882649</td>\n",
              "      <td>14.856035</td>\n",
              "    </tr>\n",
              "    <tr>\n",
              "      <th>3997</th>\n",
              "      <td>3997</td>\n",
              "      <td>-9.496490</td>\n",
              "      <td>-4.672709</td>\n",
              "      <td>-6.055123</td>\n",
              "      <td>-1899.285289</td>\n",
              "    </tr>\n",
              "    <tr>\n",
              "      <th>3998</th>\n",
              "      <td>3998</td>\n",
              "      <td>-0.741784</td>\n",
              "      <td>1.738715</td>\n",
              "      <td>6.127188</td>\n",
              "      <td>315.081036</td>\n",
              "    </tr>\n",
              "    <tr>\n",
              "      <th>3999</th>\n",
              "      <td>3999</td>\n",
              "      <td>-2.511200</td>\n",
              "      <td>-1.057216</td>\n",
              "      <td>-4.162493</td>\n",
              "      <td>-130.468526</td>\n",
              "    </tr>\n",
              "    <tr>\n",
              "      <th>4000</th>\n",
              "      <td>4000</td>\n",
              "      <td>7.689523</td>\n",
              "      <td>0.505168</td>\n",
              "      <td>7.030196</td>\n",
              "      <td>-600.720621</td>\n",
              "    </tr>\n",
              "  </tbody>\n",
              "</table>\n",
              "<p>4000 rows × 5 columns</p>\n",
              "</div>\n",
              "      <button class=\"colab-df-convert\" onclick=\"convertToInteractive('df-4cee9d5f-1f8f-499b-b268-91c04c021cab')\"\n",
              "              title=\"Convert this dataframe to an interactive table.\"\n",
              "              style=\"display:none;\">\n",
              "        \n",
              "  <svg xmlns=\"http://www.w3.org/2000/svg\" height=\"24px\"viewBox=\"0 0 24 24\"\n",
              "       width=\"24px\">\n",
              "    <path d=\"M0 0h24v24H0V0z\" fill=\"none\"/>\n",
              "    <path d=\"M18.56 5.44l.94 2.06.94-2.06 2.06-.94-2.06-.94-.94-2.06-.94 2.06-2.06.94zm-11 1L8.5 8.5l.94-2.06 2.06-.94-2.06-.94L8.5 2.5l-.94 2.06-2.06.94zm10 10l.94 2.06.94-2.06 2.06-.94-2.06-.94-.94-2.06-.94 2.06-2.06.94z\"/><path d=\"M17.41 7.96l-1.37-1.37c-.4-.4-.92-.59-1.43-.59-.52 0-1.04.2-1.43.59L10.3 9.45l-7.72 7.72c-.78.78-.78 2.05 0 2.83L4 21.41c.39.39.9.59 1.41.59.51 0 1.02-.2 1.41-.59l7.78-7.78 2.81-2.81c.8-.78.8-2.07 0-2.86zM5.41 20L4 18.59l7.72-7.72 1.47 1.35L5.41 20z\"/>\n",
              "  </svg>\n",
              "      </button>\n",
              "      \n",
              "  <style>\n",
              "    .colab-df-container {\n",
              "      display:flex;\n",
              "      flex-wrap:wrap;\n",
              "      gap: 12px;\n",
              "    }\n",
              "\n",
              "    .colab-df-convert {\n",
              "      background-color: #E8F0FE;\n",
              "      border: none;\n",
              "      border-radius: 50%;\n",
              "      cursor: pointer;\n",
              "      display: none;\n",
              "      fill: #1967D2;\n",
              "      height: 32px;\n",
              "      padding: 0 0 0 0;\n",
              "      width: 32px;\n",
              "    }\n",
              "\n",
              "    .colab-df-convert:hover {\n",
              "      background-color: #E2EBFA;\n",
              "      box-shadow: 0px 1px 2px rgba(60, 64, 67, 0.3), 0px 1px 3px 1px rgba(60, 64, 67, 0.15);\n",
              "      fill: #174EA6;\n",
              "    }\n",
              "\n",
              "    [theme=dark] .colab-df-convert {\n",
              "      background-color: #3B4455;\n",
              "      fill: #D2E3FC;\n",
              "    }\n",
              "\n",
              "    [theme=dark] .colab-df-convert:hover {\n",
              "      background-color: #434B5C;\n",
              "      box-shadow: 0px 1px 3px 1px rgba(0, 0, 0, 0.15);\n",
              "      filter: drop-shadow(0px 1px 2px rgba(0, 0, 0, 0.3));\n",
              "      fill: #FFFFFF;\n",
              "    }\n",
              "  </style>\n",
              "\n",
              "      <script>\n",
              "        const buttonEl =\n",
              "          document.querySelector('#df-4cee9d5f-1f8f-499b-b268-91c04c021cab button.colab-df-convert');\n",
              "        buttonEl.style.display =\n",
              "          google.colab.kernel.accessAllowed ? 'block' : 'none';\n",
              "\n",
              "        async function convertToInteractive(key) {\n",
              "          const element = document.querySelector('#df-4cee9d5f-1f8f-499b-b268-91c04c021cab');\n",
              "          const dataTable =\n",
              "            await google.colab.kernel.invokeFunction('convertToInteractive',\n",
              "                                                     [key], {});\n",
              "          if (!dataTable) return;\n",
              "\n",
              "          const docLinkHtml = 'Like what you see? Visit the ' +\n",
              "            '<a target=\"_blank\" href=https://colab.research.google.com/notebooks/data_table.ipynb>data table notebook</a>'\n",
              "            + ' to learn more about interactive tables.';\n",
              "          element.innerHTML = '';\n",
              "          dataTable['output_type'] = 'display_data';\n",
              "          await google.colab.output.renderOutput(dataTable, element);\n",
              "          const docLink = document.createElement('div');\n",
              "          docLink.innerHTML = docLinkHtml;\n",
              "          element.appendChild(docLink);\n",
              "        }\n",
              "      </script>\n",
              "    </div>\n",
              "  </div>\n",
              "  "
            ]
          },
          "metadata": {},
          "execution_count": 180
        }
      ]
    },
    {
      "cell_type": "code",
      "source": [
        "train_Y = train.loc[:,'label']\n",
        "train_Y = train_Y.to_numpy()\n",
        "train_Y"
      ],
      "metadata": {
        "id": "H8c7Itbxgpgi",
        "colab": {
          "base_uri": "https://localhost:8080/"
        },
        "outputId": "ed94dff3-e730-499e-e0c0-3738f5b034d5"
      },
      "execution_count": null,
      "outputs": [
        {
          "output_type": "execute_result",
          "data": {
            "text/plain": [
              "array([  136.39837542,  -310.72481348,     1.75544689, ...,\n",
              "         551.12023996, -1312.02417493,   503.24874597])"
            ]
          },
          "metadata": {},
          "execution_count": 181
        }
      ]
    },
    {
      "cell_type": "code",
      "source": [
        "train_X = train.iloc[:, 1:4]\n",
        "train_X = train_X.to_numpy()\n",
        "train_X"
      ],
      "metadata": {
        "colab": {
          "base_uri": "https://localhost:8080/"
        },
        "id": "wjVVTIhhqbIZ",
        "outputId": "a9b91229-da68-4e21-d87f-73aa3f2fb5ad"
      },
      "execution_count": null,
      "outputs": [
        {
          "output_type": "execute_result",
          "data": {
            "text/plain": [
              "array([[-1.36644585, -3.76194541, -8.75616193],\n",
              "       [-4.09026967, -1.83621751, -1.84606561],\n",
              "       [-8.73047757, -1.92365058,  3.89297218],\n",
              "       ...,\n",
              "       [-4.11193485,  0.33371791,  5.88308467],\n",
              "       [-3.28037595, -9.03022955,  5.75028532],\n",
              "       [ 0.26446872,  5.30821288,  9.59256533]])"
            ]
          },
          "metadata": {},
          "execution_count": 182
        }
      ]
    },
    {
      "cell_type": "code",
      "source": [
        "u = np.ones([np.shape(train_X)[0], 1])\n",
        "train_X = np.concatenate((u, train_X), axis = 1)\n",
        "print(np.shape(train_X))\n",
        "train_Y"
      ],
      "metadata": {
        "colab": {
          "base_uri": "https://localhost:8080/"
        },
        "id": "zQ8Xv9eVrz9U",
        "outputId": "0653c8c2-2ffc-4433-b379-976e85c1ea79"
      },
      "execution_count": null,
      "outputs": [
        {
          "output_type": "stream",
          "name": "stdout",
          "text": [
            "(4000, 4)\n"
          ]
        },
        {
          "output_type": "execute_result",
          "data": {
            "text/plain": [
              "array([  136.39837542,  -310.72481348,     1.75544689, ...,\n",
              "         551.12023996, -1312.02417493,   503.24874597])"
            ]
          },
          "metadata": {},
          "execution_count": 183
        }
      ]
    },
    {
      "cell_type": "code",
      "source": [
        "first = np.ones((len(train_Y), 1))\n",
        "new = np.array_split(train_X, 3 , axis = 1)\n",
        "print(new[0])"
      ],
      "metadata": {
        "id": "kyl5rQu4stIZ",
        "colab": {
          "base_uri": "https://localhost:8080/"
        },
        "outputId": "8069a7d0-5441-4c87-fbee-3464ee809c65"
      },
      "execution_count": null,
      "outputs": [
        {
          "output_type": "stream",
          "name": "stdout",
          "text": [
            "[[ 1.         -1.36644585]\n",
            " [ 1.         -4.09026967]\n",
            " [ 1.         -8.73047757]\n",
            " ...\n",
            " [ 1.         -4.11193485]\n",
            " [ 1.         -3.28037595]\n",
            " [ 1.          0.26446872]]\n"
          ]
        }
      ]
    },
    {
      "cell_type": "code",
      "source": [
        "for i in range(3):\n",
        "  for j in range (i , 3):\n",
        "       degreesec = np.multiply(new[i] , new[j])\n",
        "       first = np.concatenate(( first, degreesec) , axis = 1)\n",
        "print(first.shape)"
      ],
      "metadata": {
        "colab": {
          "base_uri": "https://localhost:8080/"
        },
        "id": "pzlAQqOzPWeC",
        "outputId": "768f12c0-7207-4ee4-918c-5d2d04b163da"
      },
      "execution_count": null,
      "outputs": [
        {
          "output_type": "stream",
          "name": "stdout",
          "text": [
            "(4000, 10)\n"
          ]
        }
      ]
    },
    {
      "cell_type": "code",
      "source": [
        "for i in range(3):\n",
        "  for j in range(0 , 3):\n",
        "    degreethird = np.multiply(np.square(new[i]) , new[j] )\n",
        "    first = np.concatenate((first, degreethird), axis = 1)\n",
        "  first = np.concatenate((first, new[i]) , axis = 1)\n",
        "print(first.shape)"
      ],
      "metadata": {
        "colab": {
          "base_uri": "https://localhost:8080/"
        },
        "id": "O56IQiuKQVeX",
        "outputId": "b7214506-df57-462b-8523-9044e7bec12f"
      },
      "execution_count": null,
      "outputs": [
        {
          "output_type": "stream",
          "name": "stdout",
          "text": [
            "(4000, 28)\n"
          ]
        }
      ]
    },
    {
      "cell_type": "code",
      "source": [
        "def grad( X , Y , learningrate , itrn):\n",
        "  \n",
        "  m = len(train_Y)\n",
        "  \n",
        "  theta = np.zeros( (X.shape[1] , 1) ) # initializing theta\n",
        "\n",
        "  cost_all = [] \n",
        "  \n",
        "  for i in range( 1, X.shape[1] ):\n",
        "\n",
        "     mean = np.mean( X[:,i])\n",
        "\n",
        "     deviate = ( np.amax( X[:,i] ) - np.amin( X[:,i]))\n",
        "\n",
        "     for j in range(X.shape[0]):\n",
        "\n",
        "       X[j,i] = ( X[j,i] - mean ) / deviate\n",
        "\n",
        "\n",
        "  for k in range (Y.size):\n",
        "\n",
        "    Y[k] =  ( Y[k] - np.mean( Y ) ) / ( np.amax( Y ) - np.amin( Y ))\n",
        "\n",
        "  for z in range(itrn):\n",
        "    \n",
        "    y_probability = np.dot(X, theta)\n",
        "\n",
        "    cost = (1/(2*m)*np.sum(np.square((y_probability).T - Y )))\n",
        "\n",
        "    dif = (1/m)*np.dot(X.T , ((y_probability).T - Y).T)\n",
        "    \n",
        "    theta = theta - learningrate*dif\n",
        "\n",
        "    cost_all.append(cost) # updating cost Function list\n",
        "\n",
        "    # to see if cost is decreasing\n",
        "\n",
        "    if z % 100 == 0:\n",
        "        print(\"Cost is\", cost)\n",
        "   \n",
        "  return y_probability , cost_all\n",
        "\n"
      ],
      "metadata": {
        "id": "DdiginGXTEAU"
      },
      "execution_count": null,
      "outputs": []
    },
    {
      "cell_type": "code",
      "source": [
        "itrn = 1000\n",
        "learningrate = 0.0001"
      ],
      "metadata": {
        "id": "FH4_X6XR4DLE"
      },
      "execution_count": null,
      "outputs": []
    },
    {
      "cell_type": "code",
      "source": [
        "theta , cost_all = grad(X = train_X ,Y = train_Y , learningrate = learningrate , itrn = itrn)"
      ],
      "metadata": {
        "colab": {
          "base_uri": "https://localhost:8080/"
        },
        "id": "_7icB7Rk6LYs",
        "outputId": "76087234-e09a-423f-8f6f-876446e3dfd2"
      },
      "execution_count": null,
      "outputs": [
        {
          "output_type": "stream",
          "name": "stdout",
          "text": [
            "Cost is 0.003839433691266419\n",
            "Cost is 0.0038394262889108353\n",
            "Cost is 0.003839418921476376\n",
            "Cost is 0.0038394115884248323\n",
            "Cost is 0.003839404289228426\n",
            "Cost is 0.0038393970233696006\n",
            "Cost is 0.0038393897903408257\n",
            "Cost is 0.003839382589644391\n",
            "Cost is 0.0038393754207922213\n",
            "Cost is 0.0038393682833056755\n"
          ]
        }
      ]
    },
    {
      "cell_type": "code",
      "source": [
        "rng = np.arange(0, itrn)\n",
        "plt.plot(rng, cost_all)\n",
        "plt.show()"
      ],
      "metadata": {
        "colab": {
          "base_uri": "https://localhost:8080/",
          "height": 276
        },
        "id": "Y3NRaJI8_dRn",
        "outputId": "45c0cd24-11c9-4dd3-b5b3-53bc23f7bcd5"
      },
      "execution_count": null,
      "outputs": [
        {
          "output_type": "display_data",
          "data": {
            "text/plain": [
              "<Figure size 432x288 with 1 Axes>"
            ],
            "image/png": "[encoded data removed]"
          },
          "metadata": {
            "needs_background": "light"
          }
        }
      ]
    },
    {
      "cell_type": "code",
      "source": [
        "test_Y = test.loc[:,'label']\n",
        "test_Y = test_Y.to_numpy()\n",
        "test_Y"
      ],
      "metadata": {
        "colab": {
          "base_uri": "https://localhost:8080/"
        },
        "id": "sWyd26lN_1s1",
        "outputId": "b5bb2b83-1b2a-4a3b-ce95-9ae1e0c2a631"
      },
      "execution_count": null,
      "outputs": [
        {
          "output_type": "execute_result",
          "data": {
            "text/plain": [
              "array([ -545.36252395,   -75.04418664, -2403.12490211, ...,\n",
              "         315.08103634,  -130.46852642,  -600.72062115])"
            ]
          },
          "metadata": {},
          "execution_count": 202
        }
      ]
    },
    {
      "cell_type": "code",
      "source": [
        "test_X = test.iloc[:, 1:4]\n",
        "test_X = test_X.to_numpy()\n",
        "test_X"
      ],
      "metadata": {
        "colab": {
          "base_uri": "https://localhost:8080/"
        },
        "id": "uxlScpT5BGq8",
        "outputId": "cd6d647b-8c13-4452-b79c-92a355aca45b"
      },
      "execution_count": null,
      "outputs": [
        {
          "output_type": "execute_result",
          "data": {
            "text/plain": [
              "array([[ 2.81196379,  6.14275187,  6.41923694],\n",
              "       [-2.66978441,  7.77509088, -6.93190696],\n",
              "       [-6.99215594, -9.20554815,  0.85258047],\n",
              "       ...,\n",
              "       [-0.74178384,  1.73871499,  6.12718754],\n",
              "       [-2.51120005, -1.05721555, -4.16249342],\n",
              "       [ 7.68952322,  0.50516819,  7.03019601]])"
            ]
          },
          "metadata": {},
          "execution_count": 203
        }
      ]
    },
    {
      "cell_type": "code",
      "source": [
        "u = np.ones([np.shape(test_X)[0], 1])\n",
        "test_X = np.concatenate((u, test_X), axis = 1)\n",
        "print(np.shape(test_X))\n",
        "test_Y"
      ],
      "metadata": {
        "colab": {
          "base_uri": "https://localhost:8080/"
        },
        "id": "cCc1ZVJuBSVU",
        "outputId": "4ad2fe59-a6e2-41fd-9f86-6d9496cd8fe7"
      },
      "execution_count": null,
      "outputs": [
        {
          "output_type": "stream",
          "name": "stdout",
          "text": [
            "(4000, 4)\n"
          ]
        },
        {
          "output_type": "execute_result",
          "data": {
            "text/plain": [
              "array([ -545.36252395,   -75.04418664, -2403.12490211, ...,\n",
              "         315.08103634,  -130.46852642,  -600.72062115])"
            ]
          },
          "metadata": {},
          "execution_count": 204
        }
      ]
    },
    {
      "cell_type": "code",
      "source": [
        "first_d = np.ones((len(test_Y), 1))\n",
        "new_arr = np.array_split(test_X, 3 , axis = 1)\n",
        "print(new_arr[0])"
      ],
      "metadata": {
        "colab": {
          "base_uri": "https://localhost:8080/"
        },
        "id": "5XMgX3HxEB4F",
        "outputId": "07092513-46a8-4ea3-9bb1-f1094ee2c24c"
      },
      "execution_count": null,
      "outputs": [
        {
          "output_type": "stream",
          "name": "stdout",
          "text": [
            "[[ 1.          2.81196379]\n",
            " [ 1.         -2.66978441]\n",
            " [ 1.         -6.99215594]\n",
            " ...\n",
            " [ 1.         -0.74178384]\n",
            " [ 1.         -2.51120005]\n",
            " [ 1.          7.68952322]]\n"
          ]
        }
      ]
    },
    {
      "cell_type": "code",
      "source": [
        "for i in range(3):\n",
        "  for j in range (i , 3):\n",
        "       degreesecond = np.multiply(new_arr[i] , new_arr[j])\n",
        "       first_d= np.concatenate(( first_d, degreesec) , axis = 1)\n",
        "print(first_d.shape)"
      ],
      "metadata": {
        "colab": {
          "base_uri": "https://localhost:8080/"
        },
        "id": "V0oxClf8Bd6T",
        "outputId": "db6b7b75-54b8-449b-f9ca-068dd2308940"
      },
      "execution_count": null,
      "outputs": [
        {
          "output_type": "stream",
          "name": "stdout",
          "text": [
            "(4000, 7)\n"
          ]
        }
      ]
    },
    {
      "cell_type": "code",
      "source": [
        "for i in range(3):\n",
        "  for j in range(0 , 3):\n",
        "    degreethree = np.multiply(np.square(new_arr[i]) , new_arr[j] )\n",
        "    first_d = np.concatenate((first_d, degreethree), axis = 1)\n",
        "  first_d= np.concatenate((first_d, new[i]) , axis = 1)\n",
        "print(first_d.shape)"
      ],
      "metadata": {
        "colab": {
          "base_uri": "https://localhost:8080/"
        },
        "id": "Y5WLsfcbEsS2",
        "outputId": "e9f7c2d4-9766-4c73-957b-94d6295daa3a"
      },
      "execution_count": null,
      "outputs": [
        {
          "output_type": "stream",
          "name": "stdout",
          "text": [
            "(4000, 25)\n"
          ]
        }
      ]
    },
    {
      "cell_type": "code",
      "source": [
        "itrn = 1000\n",
        "learningrate = 0.00005"
      ],
      "metadata": {
        "id": "XgtzdeAt2si0"
      },
      "execution_count": null,
      "outputs": []
    },
    {
      "cell_type": "code",
      "source": [
        "y_probability , cost_all = grad(X = test_X ,Y = test_Y , learningrate = learningrate , itrn = itrn)"
      ],
      "metadata": {
        "colab": {
          "base_uri": "https://localhost:8080/"
        },
        "id": "Rb-B20nU26R-",
        "outputId": "1abed8fb-0651-4a38-e59a-45085b170d70"
      },
      "execution_count": null,
      "outputs": [
        {
          "output_type": "stream",
          "name": "stdout",
          "text": [
            "Cost is 0.004656108255192812\n",
            "Cost is 0.004656105663792545\n",
            "Cost is 0.0046561030760458415\n",
            "Cost is 0.004656100491934901\n",
            "Cost is 0.004656097911442079\n",
            "Cost is 0.004656095334549893\n",
            "Cost is 0.0046560927612410204\n",
            "Cost is 0.004656090191498297\n",
            "Cost is 0.004656087625304707\n",
            "Cost is 0.004656085062643396\n"
          ]
        }
      ]
    },
    {
      "cell_type": "code",
      "source": [
        "rng = np.arange(0, itrn)\n",
        "plt.plot(rng, cost_all)\n",
        "plt.show()"
      ],
      "metadata": {
        "colab": {
          "base_uri": "https://localhost:8080/",
          "height": 276
        },
        "id": "V6mikov63AjX",
        "outputId": "6b29a89a-9456-49ca-9cff-ed2961d5edd6"
      },
      "execution_count": null,
      "outputs": [
        {
          "output_type": "display_data",
          "data": {
            "text/plain": [
              "<Figure size 432x288 with 1 Axes>"
            ],
            "image/png": "[encoded data removed]"
          },
          "metadata": {
            "needs_background": "light"
          }
        }
      ]
    },
    {
      "cell_type": "code",
      "source": [
        "error = (1/4000)*(np.sum((np.abs(y_probability).T - test_Y) / np.abs(test_Y)))\n",
        "print(error*100 , \"%\")"
      ],
      "metadata": {
        "colab": {
          "base_uri": "https://localhost:8080/"
        },
        "id": "fWPFdi-HHfsB",
        "outputId": "1b7ed679-35fb-4f63-ab83-260ed84bed2e"
      },
      "execution_count": null,
      "outputs": [
        {
          "output_type": "stream",
          "name": "stdout",
          "text": [
            "4.222829429749244 %\n"
          ]
        }
      ]
    }
  ]
}