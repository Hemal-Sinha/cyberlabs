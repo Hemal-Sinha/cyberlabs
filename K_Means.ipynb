{
  "cells": [
    {
      "cell_type": "code",
      "execution_count": null,
      "metadata": {
        "id": "zKoA50STQEM7"
      },
      "outputs": [],
      "source": [
        "import pandas as pd\n",
        "import numpy as np\n",
        "import matplotlib.pyplot as plt\n",
        "from scipy.stats import mode"
      ]
    },
    {
      "cell_type": "code",
      "execution_count": null,
      "metadata": {
        "colab": {
          "base_uri": "https://localhost:8080/"
        },
        "id": "znYjtgWJS2lt",
        "outputId": "3c65fdcb-0126-4255-85b1-680da05064e2"
      },
      "outputs": [
        {
          "output_type": "stream",
          "name": "stdout",
          "text": [
            "Mounted at /content/drive\n"
          ]
        }
      ],
      "source": [
        "from google.colab import drive\n",
        "drive.mount('/content/drive')"
      ]
    },
    {
      "cell_type": "code",
      "execution_count": null,
      "metadata": {
        "colab": {
          "base_uri": "https://localhost:8080/"
        },
        "id": "pun30lj4THMq",
        "outputId": "a926f6fa-9a01-492f-988b-cb0fd7c63537"
      },
      "outputs": [
        {
          "output_type": "stream",
          "name": "stdout",
          "text": [
            "mkdir: cannot create directory ‘/content/drive/MyDrive/K-means’: File exists\n"
          ]
        }
      ],
      "source": [
        "!mkdir /content/drive/MyDrive/K-means"
      ]
    },
    {
      "cell_type": "code",
      "execution_count": null,
      "metadata": {
        "colab": {
          "base_uri": "https://localhost:8080/"
        },
        "id": "_zpTMHL8TaWS",
        "outputId": "dd882a14-d4f0-4ab9-88c2-af1373273428"
      },
      "outputs": [
        {
          "output_type": "stream",
          "name": "stdout",
          "text": [
            "/content/drive/MyDrive/K-means\n"
          ]
        }
      ],
      "source": [
        "%cd /content/drive/MyDrive/K-means"
      ]
    },
    {
      "cell_type": "code",
      "execution_count": null,
      "metadata": {
        "colab": {
          "base_uri": "https://localhost:8080/"
        },
        "id": "KPtIdgcWUBMm",
        "outputId": "aa508ce5-99c2-453c-9d01-e7fb0188b15a"
      },
      "outputs": [
        {
          "output_type": "stream",
          "name": "stdout",
          "text": [
            "'emnist-letters-test (1).csv'  'emnist-letters-train (1).csv'\n"
          ]
        }
      ],
      "source": [
        "!ls"
      ]
    },
    {
      "cell_type": "code",
      "execution_count": null,
      "metadata": {
        "id": "4sEGyvPTUs2Y"
      },
      "outputs": [],
      "source": [
        "data_path = '/content/drive/MyDrive/K-means/emnist-letters-train (1).csv'"
      ]
    },
    {
      "cell_type": "code",
      "execution_count": null,
      "metadata": {
        "colab": {
          "base_uri": "https://localhost:8080/"
        },
        "id": "N-tPd_6GU9BV",
        "outputId": "f325e824-ab23-486e-f6c6-51127763bbb3"
      },
      "outputs": [
        {
          "output_type": "stream",
          "name": "stdout",
          "text": [
            "[[ 7.  0.  0. ...  0.  0.  0.]\n",
            " [16.  0.  0. ...  0.  0.  0.]\n",
            " [15.  0.  0. ...  0.  0.  0.]\n",
            " ...\n",
            " [ 6.  0.  0. ...  0.  0.  0.]\n",
            " [14.  0.  0. ...  0.  0.  0.]\n",
            " [24.  0.  0. ... nan nan nan]]\n"
          ]
        }
      ],
      "source": [
        "data = pd.read_csv(data_path)\n",
        "data = data.to_numpy()\n",
        "print(data)"
      ]
    },
    {
      "cell_type": "code",
      "execution_count": null,
      "metadata": {
        "id": "OGPdXDHdVfMX"
      },
      "outputs": [],
      "source": [
        "data_X = data[0:500, 1:]\n",
        "data_Y = data[0:500, 0]"
      ]
    },
    {
      "cell_type": "code",
      "execution_count": null,
      "metadata": {
        "id": "klbVfholWGtX"
      },
      "outputs": [],
      "source": [
        "def model(data_X , data_Y , k):\n",
        "  centre_cluster = data_X[np.random.choice((np.shape(data_X)[0]),k,replace = False), :]\n",
        "  distances = np.zeros([np.shape(data_X)[0], k])\n",
        "  least_distant = np.argmin(distances, axis = 1)\n",
        " \n",
        "  for i in range(k):\n",
        "     distances[:, i] = np.sqrt(((data_X - centre_cluster[i])**2).sum(axis = 1))\n",
        "  least_distant = np.argmin(distances, axis = 1)\n",
        "\n",
        "  for i in range(k):\n",
        "      centre_cluster[i,:] = (data_X[least_distant == i]).mean(axis = 0)\n",
        "\n",
        "  return least_distant,  centre_cluster"
      ]
    },
    {
      "cell_type": "code",
      "source": [
        "k = 50\n",
        "least_distant , centre_cluster = model(data_X, data_Y, k)"
      ],
      "metadata": {
        "id": "L6bGHpa_4U0y"
      },
      "execution_count": null,
      "outputs": []
    },
    {
      "cell_type": "code",
      "source": [
        "class_ = []\n",
        "for pt1 in range(k):\n",
        "  cluster = data_Y[np.where(least_distant == pt1)].tolist()\n",
        "  moded = mode(cluster).mode[0]\n",
        "  class_.append(moded)\n",
        "for i in range(np.size(class_)):\n",
        "  print('cluster', i+1 ,':', class_[i])"
      ],
      "metadata": {
        "id": "7AuURBI34c7M",
        "colab": {
          "base_uri": "https://localhost:8080/"
        },
        "outputId": "6e2c505c-a473-4741-b6a5-de0fb9487448"
      },
      "execution_count": null,
      "outputs": [
        {
          "output_type": "stream",
          "name": "stdout",
          "text": [
            "cluster 1 : 19.0\n",
            "cluster 2 : 4.0\n",
            "cluster 3 : 5.0\n",
            "cluster 4 : 3.0\n",
            "cluster 5 : 24.0\n",
            "cluster 6 : 23.0\n",
            "cluster 7 : 1.0\n",
            "cluster 8 : 5.0\n",
            "cluster 9 : 2.0\n",
            "cluster 10 : 1.0\n",
            "cluster 11 : 12.0\n",
            "cluster 12 : 7.0\n",
            "cluster 13 : 11.0\n",
            "cluster 14 : 21.0\n",
            "cluster 15 : 22.0\n",
            "cluster 16 : 3.0\n",
            "cluster 17 : 1.0\n",
            "cluster 18 : 13.0\n",
            "cluster 19 : 16.0\n",
            "cluster 20 : 16.0\n",
            "cluster 21 : 2.0\n",
            "cluster 22 : 9.0\n",
            "cluster 23 : 21.0\n",
            "cluster 24 : 4.0\n",
            "cluster 25 : 9.0\n",
            "cluster 26 : 5.0\n",
            "cluster 27 : 13.0\n",
            "cluster 28 : 2.0\n",
            "cluster 29 : 25.0\n",
            "cluster 30 : 11.0\n",
            "cluster 31 : 23.0\n",
            "cluster 32 : 4.0\n",
            "cluster 33 : 18.0\n",
            "cluster 34 : 21.0\n",
            "cluster 35 : 1.0\n",
            "cluster 36 : 11.0\n",
            "cluster 37 : 19.0\n",
            "cluster 38 : 17.0\n",
            "cluster 39 : 26.0\n",
            "cluster 40 : 15.0\n",
            "cluster 41 : 19.0\n",
            "cluster 42 : 6.0\n",
            "cluster 43 : 6.0\n",
            "cluster 44 : 10.0\n",
            "cluster 45 : 17.0\n",
            "cluster 46 : 5.0\n",
            "cluster 47 : 2.0\n",
            "cluster 48 : 6.0\n",
            "cluster 49 : 23.0\n",
            "cluster 50 : 9.0\n"
          ]
        }
      ]
    },
    {
      "cell_type": "code",
      "source": [
        "distances = np.zeros([np.shape(data_X)[0], k])\n",
        "for i in range(k):\n",
        "  distances[:, i] = np.sqrt(((data_X - centre_cluster[i])**2).sum(axis = 1))\n",
        "least_distant = np.argmin(distances, axis = 1)\n",
        "\n",
        "output = []\n",
        "for kmeans in least_distant:\n",
        "  prediction = class_[kmeans]\n",
        "  output.append(prediction)\n",
        "\n",
        "truthtable = (output == data_Y).tolist()\n",
        "truthlist = truthtable.count(True)\n",
        "accuracy = (truthlist)*(100/(np.shape(data_X)[0])) \n",
        "print(accuracy, \"%\")\n"
      ],
      "metadata": {
        "colab": {
          "base_uri": "https://localhost:8080/"
        },
        "id": "ycUUy8dFaA5o",
        "outputId": "4f58bca6-8462-4986-b431-59aa9c4e0b50"
      },
      "execution_count": null,
      "outputs": [
        {
          "output_type": "stream",
          "name": "stdout",
          "text": [
            "40.6 %\n"
          ]
        }
      ]
    }
  ],
  "metadata": {
    "colab": {
      "name": "K-Means.ipynb",
      "provenance": [],
      "collapsed_sections": []
    },
    "kernelspec": {
      "display_name": "Python 3",
      "name": "python3"
    },
    "language_info": {
      "name": "python"
    }
  },
  "nbformat": 4,
  "nbformat_minor": 0
}