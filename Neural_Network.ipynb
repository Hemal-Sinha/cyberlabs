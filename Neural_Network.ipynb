{
  "nbformat": 4,
  "nbformat_minor": 0,
  "metadata": {
    "colab": {
      "name": "Neural Network.ipynb",
      "provenance": []
    },
    "kernelspec": {
      "name": "python3",
      "display_name": "Python 3"
    },
    "language_info": {
      "name": "python"
    }
  },
  "cells": [
    {
      "cell_type": "code",
      "execution_count": 7,
      "metadata": {
        "id": "JMEg63k7G_aD"
      },
      "outputs": [],
      "source": [
        "import pandas as pd\n",
        "import numpy as np\n",
        "import matplotlib.pyplot as plt"
      ]
    },
    {
      "cell_type": "code",
      "source": [
        "from google.colab import drive\n",
        "drive.mount('/content/drive')"
      ],
      "metadata": {
        "colab": {
          "base_uri": "https://localhost:8080/"
        },
        "id": "R-YxxKqGHiJe",
        "outputId": "b8ef0464-454a-4da6-eebe-60c52b009759"
      },
      "execution_count": 8,
      "outputs": [
        {
          "output_type": "stream",
          "name": "stdout",
          "text": [
            "Drive already mounted at /content/drive; to attempt to forcibly remount, call drive.mount(\"/content/drive\", force_remount=True).\n"
          ]
        }
      ]
    },
    {
      "cell_type": "code",
      "source": [
        "!mkdir /content/drive/MyDrive/neural_network"
      ],
      "metadata": {
        "colab": {
          "base_uri": "https://localhost:8080/"
        },
        "id": "yYoBglZ8HjjH",
        "outputId": "1e4d92b6-82c7-497d-8235-5e631240e454"
      },
      "execution_count": 9,
      "outputs": [
        {
          "output_type": "stream",
          "name": "stdout",
          "text": [
            "mkdir: cannot create directory ‘/content/drive/MyDrive/neural_network’: File exists\n"
          ]
        }
      ]
    },
    {
      "cell_type": "code",
      "source": [
        "%cd /content/drive/MyDrive/neural_network"
      ],
      "metadata": {
        "colab": {
          "base_uri": "https://localhost:8080/"
        },
        "id": "zaOgrWi3IXdN",
        "outputId": "ca026e30-05a2-46f6-873d-215526ad9fb4"
      },
      "execution_count": 10,
      "outputs": [
        {
          "output_type": "stream",
          "name": "stdout",
          "text": [
            "/content/drive/MyDrive/neural_network\n"
          ]
        }
      ]
    },
    {
      "cell_type": "code",
      "source": [
        "!pwd"
      ],
      "metadata": {
        "colab": {
          "base_uri": "https://localhost:8080/"
        },
        "id": "tCxHvxmkIfOA",
        "outputId": "8c317fa4-b2e8-4af5-a906-32d517b783ba"
      },
      "execution_count": 11,
      "outputs": [
        {
          "output_type": "stream",
          "name": "stdout",
          "text": [
            "/content/drive/MyDrive/neural_network\n"
          ]
        }
      ]
    },
    {
      "cell_type": "code",
      "source": [
        "!ls"
      ],
      "metadata": {
        "id": "q-HNu2jzIhKc"
      },
      "execution_count": 12,
      "outputs": []
    },
    {
      "cell_type": "code",
      "source": [
        "train_path = '/content/drive/MyDrive/neural_network/emnist-letters-train.csv'\n",
        "test_path = '/content/drive/MyDrive/neural_network/emnist-letters-test.csv'\n",
        "train = pd.read_csv(train_path)"
      ],
      "metadata": {
        "id": "Y3lZTes7IigN"
      },
      "execution_count": 15,
      "outputs": []
    },
    {
      "cell_type": "code",
      "source": [
        "train_X = train.iloc[:,1:]\n",
        "u = np.ones([np.shape(train_X)[0], 1])\n",
        "train_X = np.concatenate((u, train_X), axis = 1)\n",
        "print(np.shape(train_X))"
      ],
      "metadata": {
        "colab": {
          "base_uri": "https://localhost:8080/"
        },
        "id": "SIIgDaRALSaF",
        "outputId": "6a98e54f-0b5f-495c-c6dd-6d32bcb8bf5c"
      },
      "execution_count": 16,
      "outputs": [
        {
          "output_type": "stream",
          "name": "stdout",
          "text": [
            "(4885, 785)\n"
          ]
        }
      ]
    },
    {
      "cell_type": "code",
      "source": [
        "train_Y = train.iloc[:,0]\n",
        "ynew = np.zeros([np.size(train_Y),len(set(train_Y))])\n",
        "for i in range(0,np.size(train_Y)):\n",
        "   for j in range(1, len(set(train_Y))+1):\n",
        "     if train_Y[i] == j:\n",
        "       ynew[i, j-1] = 1"
      ],
      "metadata": {
        "id": "OGX_4eJbM4Ax"
      },
      "execution_count": 19,
      "outputs": []
    },
    {
      "cell_type": "code",
      "source": [
        "def sigmoid(X, theta, bias):\n",
        "  z = np.dot(theta, X) + bias\n",
        "  return 1/(1+np.exp(-z))"
      ],
      "metadata": {
        "id": "qJrJL5snJN0m"
      },
      "execution_count": 17,
      "outputs": []
    },
    {
      "cell_type": "code",
      "source": [
        "def layer(self):\n",
        "    self.w1 = np.random.randn(100,784)\n",
        "    self.w2 = np.random.randn(26,100)\n",
        "    self.b1 = np.zeros((100,1))\n",
        "    self.b2 = np.zeros((26,1))\n"
      ],
      "metadata": {
        "id": "RgsOQsAFLiHN"
      },
      "execution_count": 20,
      "outputs": []
    },
    {
      "cell_type": "code",
      "source": [
        "def diff_sigmoid(self, X, theta):\n",
        "    return self.sigmoid(X, theta) * (1 - self.sigmoid(X, theta))"
      ],
      "metadata": {
        "id": "A6Oywgg4N0ym"
      },
      "execution_count": 21,
      "outputs": []
    },
    {
      "cell_type": "code",
      "source": [
        "class NeuralNetwork:\n",
        "     def __init__(self):\n",
        "        self.w1   = np.random.rand(784,100) # input to hidden layer weights\n",
        "        self.w2  = np.random.rand(100,26) # hidden layer to output weights\n",
        "\n",
        "def gradient_descent(self, x, y, iterations):\n"
      ],
      "metadata": {
        "colab": {
          "base_uri": "https://localhost:8080/",
          "height": 131
        },
        "id": "-1lE6A09N_La",
        "outputId": "9e107509-17cc-47ba-b9eb-9a96db8f0c60"
      },
      "execution_count": 23,
      "outputs": [
        {
          "output_type": "error",
          "ename": "SyntaxError",
          "evalue": "ignored",
          "traceback": [
            "\u001b[0;36m  File \u001b[0;32m\"<ipython-input-23-8ec2fc093cb5>\"\u001b[0;36m, line \u001b[0;32m6\u001b[0m\n\u001b[0;31m    def gradient_descent(self, x, y, iterations):\u001b[0m\n\u001b[0m                                                 ^\u001b[0m\n\u001b[0;31mSyntaxError\u001b[0m\u001b[0;31m:\u001b[0m unexpected EOF while parsing\n"
          ]
        }
      ]
    },
    {
      "cell_type": "code",
      "source": [
        ""
      ],
      "metadata": {
        "id": "V5bg6nD-O72g"
      },
      "execution_count": null,
      "outputs": []
    }
  ]
}